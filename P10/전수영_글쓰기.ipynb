{
  "nbformat": 4,
  "nbformat_minor": 0,
  "metadata": {
    "accelerator": "GPU",
    "colab": {
      "name": "wordGen-Colab-gpu.ipynb",
      "provenance": [],
      "collapsed_sections": []
    },
    "kernelspec": {
      "display_name": "Python 3",
      "name": "python3"
    }
  },
  "cells": [
    {
      "cell_type": "code",
      "metadata": {
        "id": "LazMJ61LlnOS"
      },
      "source": [
        "from __future__ import print_function\n",
        "import json\n",
        "from keras.models import Sequential\n",
        "from keras.layers import Dense, Activation\n",
        "from keras.layers import LSTM\n",
        "from keras.optimizers import Adam\n",
        "from keras.utils.data_utils import get_file\n",
        "import numpy as np\n",
        "import random\n",
        "import sys\n",
        "import tensorflow as tf"
      ],
      "execution_count": 1,
      "outputs": []
    },
    {
      "cell_type": "code",
      "metadata": {
        "id": "aiFiVMFIozHn"
      },
      "source": [
        "%%capture\n",
        "! wget --no-check-certificate 'https://docs.google.com/uc?export=download&id=1m5rdL_vkZr7JCo_-8g4v9fh2jfU-sX-A' -O yelp_100_3.txt\n",
        "! wget --no-check-certificate 'https://docs.google.com/uc?export=download&id=1qfMZCaANhTR6b1NM4jXGNQQP5Z3eSyq8' -O indices_char.txt\n",
        "! wget --no-check-certificate 'https://docs.google.com/uc?export=download&id=1a1CVCwKQWxyHBpTR3sVgsf7eRtZHjUqx' -O char_indices.txt\n",
        "! wget --no-check-certificate 'https://docs.google.com/uc?export=download&id=1MZEUyaqT48D858zwEVzlTfjgXJvmY-BI' -O transfer_weights"
      ],
      "execution_count": 2,
      "outputs": []
    },
    {
      "cell_type": "code",
      "metadata": {
        "colab": {
          "base_uri": "https://localhost:8080/"
        },
        "id": "Tc0xeVf2mPXt",
        "outputId": "9867ac87-3d1f-4c0d-f1f4-03b07b3c392a"
      },
      "source": [
        "!ls -l"
      ],
      "execution_count": 3,
      "outputs": [
        {
          "output_type": "stream",
          "text": [
            "total 29896\n",
            "-rw-r--r-- 1 root root      541 May  5 08:17 char_indices.txt\n",
            "-rw-r--r-- 1 root root      663 May  5 08:17 indices_char.txt\n",
            "drwxr-xr-x 1 root root     4096 Apr 21 13:39 sample_data\n",
            "-rw-r--r-- 1 root root 30524436 May  5 08:17 transfer_weights\n",
            "-rw-r--r-- 1 root root    71250 May  5 08:17 yelp_100_3.txt\n"
          ],
          "name": "stdout"
        }
      ]
    },
    {
      "cell_type": "code",
      "metadata": {
        "colab": {
          "base_uri": "https://localhost:8080/"
        },
        "id": "cu1t1VSrmTwz",
        "outputId": "12e8e19c-a74b-40da-a5bc-bcc340245c8b"
      },
      "source": [
        "path = 'yelp_100_3.txt'\n",
        "text = open(path).read().lower()\n",
        "print('corpus length:', len(text))\n",
        "\n",
        "char_indices = json.loads(open('char_indices.txt').read())\n",
        "indices_char = json.loads(open('indices_char.txt').read())\n",
        "chars = sorted(char_indices.keys())\n",
        "print(indices_char)\n",
        "#chars = sorted(list(set(text)))\n",
        "print('total chars:', len(chars))\n",
        "#char_indices = dict((c, i) for i, c in enumerate(chars))\n",
        "#indices_char = dict((i, c) for i, c in enumerate(chars))\n",
        "\n",
        "# cut the text in semi-redundant sequences of maxlen characters\n",
        "maxlen = 256\n",
        "step = 3\n",
        "sentences = []\n",
        "next_chars = []\n",
        "for i in range(0, len(text) - maxlen, step):\n",
        "    sentences.append(text[i: i + maxlen])\n",
        "    next_chars.append(text[i + maxlen])\n",
        "print('nb sequences:', len(sentences))\n",
        "\n",
        "print('Vectorization...')\n",
        "X = np.zeros((len(sentences), maxlen, len(chars)), dtype=np.bool)\n",
        "y = np.zeros((len(sentences), len(chars)), dtype=np.bool)\n",
        "for i, sentence in enumerate(sentences):\n",
        "    for t, char in enumerate(sentence):\n",
        "        X[i, t, char_indices[char]] = 1\n",
        "    y[i, char_indices[next_chars[i]]] = 1\n",
        "\n",
        "\n"
      ],
      "execution_count": 4,
      "outputs": [
        {
          "output_type": "stream",
          "text": [
            "corpus length: 71250\n",
            "{'0': '\\n', '1': ' ', '2': '!', '3': '\"', '4': '#', '5': '$', '6': '%', '7': '&', '8': \"'\", '9': '(', '10': ')', '11': '*', '12': '+', '13': ',', '14': '-', '15': '.', '16': '/', '17': '0', '18': '1', '19': '2', '20': '3', '21': '4', '22': '5', '23': '6', '24': '7', '25': '8', '26': '9', '27': ':', '28': ';', '29': '=', '30': '?', '31': '[', '32': ']', '33': 'a', '34': 'b', '35': 'c', '36': 'd', '37': 'e', '38': 'f', '39': 'g', '40': 'h', '41': 'i', '42': 'j', '43': 'k', '44': 'l', '45': 'm', '46': 'n', '47': 'o', '48': 'p', '49': 'q', '50': 'r', '51': 's', '52': 't', '53': 'u', '54': 'v', '55': 'w', '56': 'x', '57': 'y', '58': 'z', '59': '{', '60': '}'}\n",
            "total chars: 61\n",
            "nb sequences: 23665\n",
            "Vectorization...\n"
          ],
          "name": "stdout"
        }
      ]
    },
    {
      "cell_type": "code",
      "metadata": {
        "colab": {
          "base_uri": "https://localhost:8080/"
        },
        "id": "Kk8heE1FyCgs",
        "outputId": "0520a048-2175-4a68-be48-535f12fc2f99"
      },
      "source": [
        "\n",
        "# build the model: a single LSTM\n",
        "print('Build model...')\n",
        "model = Sequential()\n",
        "model.add(LSTM(1024, return_sequences=True, input_shape=(maxlen, len(chars))))\n",
        "model.add(LSTM(512, return_sequences=False))\n",
        "model.add(Dense(len(chars)))\n",
        "model.add(Activation('softmax'))\n",
        "optimizer = Adam(lr=0.002)\n",
        "model.compile(loss='categorical_crossentropy', optimizer=optimizer)"
      ],
      "execution_count": 5,
      "outputs": [
        {
          "output_type": "stream",
          "text": [
            "Build model...\n"
          ],
          "name": "stdout"
        }
      ]
    },
    {
      "cell_type": "code",
      "metadata": {
        "colab": {
          "base_uri": "https://localhost:8080/"
        },
        "id": "stQZjEGtx1DZ",
        "outputId": "c4093b3a-64cd-44d4-d70c-9db8a49cd9bf"
      },
      "source": [
        "print(model.summary())"
      ],
      "execution_count": 6,
      "outputs": [
        {
          "output_type": "stream",
          "text": [
            "Model: \"sequential\"\n",
            "_________________________________________________________________\n",
            "Layer (type)                 Output Shape              Param #   \n",
            "=================================================================\n",
            "lstm (LSTM)                  (None, 256, 1024)         4448256   \n",
            "_________________________________________________________________\n",
            "lstm_1 (LSTM)                (None, 512)               3147776   \n",
            "_________________________________________________________________\n",
            "dense (Dense)                (None, 61)                31293     \n",
            "_________________________________________________________________\n",
            "activation (Activation)      (None, 61)                0         \n",
            "=================================================================\n",
            "Total params: 7,627,325\n",
            "Trainable params: 7,627,325\n",
            "Non-trainable params: 0\n",
            "_________________________________________________________________\n",
            "None\n"
          ],
          "name": "stdout"
        }
      ]
    },
    {
      "cell_type": "code",
      "metadata": {
        "colab": {
          "base_uri": "https://localhost:8080/"
        },
        "id": "Tbp_lVfN_Pos",
        "outputId": "a8de827a-c117-4d37-a29e-cf1d0edc1a46"
      },
      "source": [
        "model.load_weights(\"transfer_weights\")\n",
        "print('model loaded...')\n",
        "def sample(preds, temperature=.6):\n",
        "    # helper function to sample an index from a probability array\n",
        "    preds = np.asarray(preds).astype('float64')\n",
        "    preds = np.log(preds) / temperature\n",
        "    exp_preds = np.exp(preds)\n",
        "    preds = exp_preds / np.sum(exp_preds)\n",
        "    probas = np.random.multinomial(1, preds, 1)\n",
        "    return np.argmax(probas)\n",
        "\n",
        "# train the model, output generated text after each iteration\n",
        "for iteration in range(1, 5):\n",
        "    print()\n",
        "    print('-' * 50)\n",
        "    print('Iteration', iteration)\n",
        "    x = np.zeros((1, maxlen, len(chars)))\n",
        "    preds = model.predict(x, verbose=0)[0]\n",
        "    \n",
        "    model.fit(X, y, batch_size=128, epochs=1)\n",
        "\n",
        "    start_index = random.randint(0, len(text) - maxlen - 1)\n",
        "    #start_index = char_indices[\"{\"]\n",
        "\n",
        "    for diversity in [0.2, 0.4, 0.6, 0.8]:\n",
        "        print()\n",
        "        print('----- diversity:', diversity)\n",
        "\n",
        "        generated = ''\n",
        "        sentence = text[start_index: start_index + maxlen]\n",
        "        generated += sentence\n",
        "        print('----- Generating with seed: \"' + sentence + '\"')\n",
        "        sys.stdout.write(generated)\n",
        "        for i in range(400):\n",
        "            x = np.zeros((1, maxlen, len(chars)))\n",
        "            for t, char in enumerate(sentence):\n",
        "                x[0, t, char_indices[char]] = 1.\n",
        "\n",
        "            preds = model.predict(x, verbose=0)[0]\n",
        "            next_index = sample(preds, diversity)\n",
        "            #print(next_index)\n",
        "            #print (indices_char)\n",
        "            next_char = indices_char[str(next_index)]\n",
        "\n",
        "            generated += next_char\n",
        "            sentence = sentence[1:] + next_char\n",
        "\n",
        "            sys.stdout.write(next_char)\n",
        "            sys.stdout.flush()\n",
        "        print()"
      ],
      "execution_count": 7,
      "outputs": [
        {
          "output_type": "stream",
          "text": [
            "model loaded...\n",
            "\n",
            "--------------------------------------------------\n",
            "Iteration 1\n",
            "185/185 [==============================] - 185s 986ms/step - loss: 1.4858\n",
            "\n",
            "----- diversity: 0.2\n",
            "----- Generating with seed: \"crap.  boo. also ordered fries, and a chicago dog.. the chicago dog was overpriced and forgettable, and the crinkle cut fries were reminiscent of del taco's.. which isn't exactly a bad thing, but considering that lobby's is supposed to be a tasty, quality \"\n",
            "crap.  boo. also ordered fries, and a chicago dog.. the chicago dog was overpriced and forgettable, and the crinkle cut fries were reminiscent of del taco's.. which isn't exactly a bad thing, but considering that lobby's is supposed to be a tasty, quality of the conner for the conners are so the bottor was we were the other dinner a breakfast was so i did the self was all do the other was sorn the most was a little short and the conner was all a sprimply chili breakfast was pretty drink that we were the other w there were the most of the self was the other were served with the food and the completely for the place and the botto and the other taste \n",
            "\n",
            "----- diversity: 0.4\n",
            "----- Generating with seed: \"crap.  boo. also ordered fries, and a chicago dog.. the chicago dog was overpriced and forgettable, and the crinkle cut fries were reminiscent of del taco's.. which isn't exactly a bad thing, but considering that lobby's is supposed to be a tasty, quality \"\n",
            "crap.  boo. also ordered fries, and a chicago dog.. the chicago dog was overpriced and forgettable, and the crinkle cut fries were reminiscent of del taco's.. which isn't exactly a bad thing, but considering that lobby's is supposed to be a tasty, quality of the friend or more served with the otaster was so i liked the was weered to the chinite of somple shrimp and the most the wait to gat a really got the well go lots of way we were the wait to be the bottor was so not be a surk the restaurant - specials of order the poor of the service was pretty cook from the pick and the most sals my list was when i sad a near space and the restaurant was our t\n",
            "\n",
            "----- diversity: 0.6\n",
            "----- Generating with seed: \"crap.  boo. also ordered fries, and a chicago dog.. the chicago dog was overpriced and forgettable, and the crinkle cut fries were reminiscent of del taco's.. which isn't exactly a bad thing, but considering that lobby's is supposed to be a tasty, quality \"\n",
            "crap.  boo. also ordered fries, and a chicago dog.. the chicago dog was overpriced and forgettable, and the crinkle cut fries were reminiscent of del taco's.. which isn't exactly a bad thing, but considering that lobby's is supposed to be a tasty, quality were order there off the bonly fit cheese.\n",
            "\n",
            "ood condone of the and he liked the seat eloriat, when i sam we were from the bring of pie was a fishour than the conners and the only was so finitely was so my meal and the chink of way i've been with the castiens we lided the mood a beens the pestund ressoralt.  we were served to the place and a serious are priced of the secret was all lust or more fri\n",
            "\n",
            "----- diversity: 0.8\n",
            "----- Generating with seed: \"crap.  boo. also ordered fries, and a chicago dog.. the chicago dog was overpriced and forgettable, and the crinkle cut fries were reminiscent of del taco's.. which isn't exactly a bad thing, but considering that lobby's is supposed to be a tasty, quality \"\n",
            "crap.  boo. also ordered fries, and a chicago dog.. the chicago dog was overpriced and forgettable, and the crinkle cut fries were reminiscent of del taco's.. which isn't exactly a bad thing, but considering that lobby's is supposed to be a tasty, quality of my was not in a little offet they have stiff bacause not to tho armosp service was so it summy was a served out of ice and so it was eith.  we were pie ad a great we levelyo coffee specials of cozfred like peapuriin.  i think that i don't wait turt hhr and the hear wishing plat of my lost with out the dond bating was they are bet eat and he went served kinds to eat on a side of priced to not pr\n",
            "\n",
            "--------------------------------------------------\n",
            "Iteration 2\n",
            "185/185 [==============================] - 183s 987ms/step - loss: 1.0493\n",
            "\n",
            "----- diversity: 0.2\n",
            "----- Generating with seed: \"e indeed, and were impressed with all of them, though the pork and cheese and the bean were my personal favorites.\n",
            "\n",
            "we also had a corn tamale that was sweet and moist and tasty, rolled in a banana leaf instead of the corn husk we are used to. perhaps that \"\n",
            "e indeed, and were impressed with all of them, though the pork and cheese and the bean were my personal favorites.\n",
            "\n",
            "we also had a corn tamale that was sweet and moist and tasty, rolled in a banana leaf instead of the corn husk we are used to. perhaps that the chee was a little liked across which i drew what served in the corn that was so my wales be a fou can beans and the salad and the cheese as beans and she was pre on a little liked the menu and a beer pipurand really good.  the bach for a cheese was so i will be all in the mande back and salsad with the wait to get a little liked the salad and the back for the place for a light wher i got a bee\n",
            "\n",
            "----- diversity: 0.4\n",
            "----- Generating with seed: \"e indeed, and were impressed with all of them, though the pork and cheese and the bean were my personal favorites.\n",
            "\n",
            "we also had a corn tamale that was sweet and moist and tasty, rolled in a banana leaf instead of the corn husk we are used to. perhaps that \"\n",
            "e indeed, and were impressed with all of them, though the pork and cheese and the bean were my personal favorites.\n",
            "\n",
            "we also had a corn tamale that was sweet and moist and tasty, rolled in a banana leaf instead of the corn husk we are used to. perhaps that while the wait, but the burric of my was a little liked when you can all the and a little liked acan don't thing he mang and she was pacation and list of the mande and the food as well still have to taste a great firitas for my will but if it was all different staff are very chinken free for the corner is not that subsand i was combled and the place is no many was pre on the french and list of my \n",
            "\n",
            "----- diversity: 0.6\n",
            "----- Generating with seed: \"e indeed, and were impressed with all of them, though the pork and cheese and the bean were my personal favorites.\n",
            "\n",
            "we also had a corn tamale that was sweet and moist and tasty, rolled in a banana leaf instead of the corn husk we are used to. perhaps that \"\n",
            "e indeed, and were impressed with all of them, though the pork and cheese and the bean were my personal favorites.\n",
            "\n",
            "we also had a corn tamale that was sweet and moist and tasty, rolled in a banana leaf instead of the corn husk we are used to. perhaps that i went the table night salads lessed i knewg. the table need with our tacker was smon.  it's a gearfas just all the service is no had a beef for a cold bad back!}{it's charge walks of my parsic and relling of the patio malch which was whith the pizza, back?  there's a little lack, but it's not for a little off the place for those ceange.  i mone all the back.  it was just difference we lave a grea\n",
            "\n",
            "----- diversity: 0.8\n",
            "----- Generating with seed: \"e indeed, and were impressed with all of them, though the pork and cheese and the bean were my personal favorites.\n",
            "\n",
            "we also had a corn tamale that was sweet and moist and tasty, rolled in a banana leaf instead of the corn husk we are used to. perhaps that \"\n",
            "e indeed, and were impressed with all of them, though the pork and cheese and the bean were my personal favorites.\n",
            "\n",
            "we also had a corn tamale that was sweet and moist and tasty, rolled in a banana leaf instead of the corn husk we are used to. perhaps that mayfe as par behand my wafele slig por to bit here, on the wait to stuffer had to sage of selectly good. i ambue clange and cace with food, and wale from not me is that restaurant was very cafes, ohuch to start.  i deffire it wasn't.  we all should be plea"
          ],
          "name": "stdout"
        },
        {
          "output_type": "stream",
          "text": [
            "/usr/local/lib/python3.7/dist-packages/ipykernel_launcher.py:6: RuntimeWarning: divide by zero encountered in log\n",
            "  \n"
          ],
          "name": "stderr"
        },
        {
          "output_type": "stream",
          "text": [
            "sant was pre abs, as wowning incoused to me back wotht got tod a little lack.}{i was all as we had wed.  atchore.  i got ma freshlearly fived...\n",
            "\n",
            "--------------------------------------------------\n",
            "Iteration 3\n",
            "185/185 [==============================] - 183s 989ms/step - loss: 0.8099\n",
            "\n",
            "----- diversity: 0.2\n",
            "----- Generating with seed: \"e of the best fresh cheeses i have ever had, smooth and soft yet very flavourful. the tortilla is not what you might be used to either, they are corn tortillas but they are not the course chip like corn tortillas so prevalent in americanized hispanic foods\"\n",
            "e of the best fresh cheeses i have ever had, smooth and soft yet very flavourful. the tortilla is not what you might be used to either, they are corn tortillas but they are not the course chip like corn tortillas so prevalent in americanized hispanic foods for the tomito food. the buth the burger and the salsa and the chef was so you can the best say i will be beck food.}{i was a little like the food as the best fast surerish, but the worth the burger as i keep to get a salad.  i do but the chec salad.  so a sweet places or some of the best say i asked in the but it was await.}{this is a good time with out the best past is the blats that the salsa \n",
            "\n",
            "----- diversity: 0.4\n",
            "----- Generating with seed: \"e of the best fresh cheeses i have ever had, smooth and soft yet very flavourful. the tortilla is not what you might be used to either, they are corn tortillas but they are not the course chip like corn tortillas so prevalent in americanized hispanic foods\"\n",
            "e of the best fresh cheeses i have ever had, smooth and soft yet very flavourful. the tortilla is not what you might be used to either, they are corn tortillas but they are not the course chip like corn tortillas so prevalent in americanized hispanic foods for the staff is hory on the sauce.  i would here asked in the best say i honestly cooked to salad and the checry, and he was good. the bustaraa and the salsa carner.  i would he dish and the sithing and the checos. i am not service was off, a sook to a sway best fash salad.  i don't like the street be friends to salad.  the service was a little like the street and the chocolate farting for dinne\n",
            "\n",
            "----- diversity: 0.6\n",
            "----- Generating with seed: \"e of the best fresh cheeses i have ever had, smooth and soft yet very flavourful. the tortilla is not what you might be used to either, they are corn tortillas but they are not the course chip like corn tortillas so prevalent in americanized hispanic foods\"\n",
            "e of the best fresh cheeses i have ever had, smooth and soft yet very flavourful. the tortilla is not what you might be used to either, they are corn tortillas but they are not the course chip like corn tortillas so prevalent in americanized hispanic foods better famorites concestion of back and steek for mesis of the molessee. i folksweetis less spicy nice. i don't it was await a little like the bottood. the sides very coffee.  i'm stark-bat be a good place? buy gots of it myshing this staff for the who explaint make stoppen, the other hear night. a salad, i would have and me night and strim this town!\n",
            "\n",
            "we wile chicken from the chicken....))) i do\n",
            "\n",
            "----- diversity: 0.8\n",
            "----- Generating with seed: \"e of the best fresh cheeses i have ever had, smooth and soft yet very flavourful. the tortilla is not what you might be used to either, they are corn tortillas but they are not the course chip like corn tortillas so prevalent in americanized hispanic foods\"\n",
            "e of the best fresh cheeses i have ever had, smooth and soft yet very flavourful. the tortilla is not what you might be used to either, they are corn tortillas but they are not the course chip like corn tortillas so prevalent in americanized hispanic foods for nooks, filato fries was cooked to deer home like the tuch!\n",
            "\n",
            "i am weited a was moffle, like when you can this place and the food as the service was the were and a bottle. flavons....oly of thot see to this that subaw the pbe to tho hations for $15 better. i wes whe iter foigh to be with anots it the coffee.  it's a shieps, the wait blit. i don't like of their hard!}{it was all of the kita was \n",
            "\n",
            "--------------------------------------------------\n",
            "Iteration 4\n",
            "185/185 [==============================] - 183s 989ms/step - loss: 0.6231\n",
            "\n",
            "----- diversity: 0.2\n",
            "----- Generating with seed: \" and the food was legit. try the \"good ol' steak salad\" and crabmeat artichoke dip! \n",
            "\n",
            "btw the valet is $3.}{i love this location! the food is always great and the service is good. wi-fi is a plus especially since i am going to school. i come here almost ev\"\n",
            " and the food was legit. try the \"good ol' steak salad\" and crabmeat artichoke dip! \n",
            "\n",
            "btw the valet is $3.}{i love this location! the food is always great and the service is good. wi-fi is a plus especially since i am going to school. i come here almost evening to eat there and stop enting head was soon, some kind of my lifthere as i will got a great staff and then to give it a try thing the staff tomation. the galadn, the patrett stuff the staff a great staff and talking the taste and was great.}{i've been all homy light enjuyed and the salsa this place the selfed with a shipp than great strad, but the waitrest say if it was away, but the salsa th\n",
            "\n",
            "----- diversity: 0.4\n",
            "----- Generating with seed: \" and the food was legit. try the \"good ol' steak salad\" and crabmeat artichoke dip! \n",
            "\n",
            "btw the valet is $3.}{i love this location! the food is always great and the service is good. wi-fi is a plus especially since i am going to school. i come here almost ev\"\n",
            " and the food was legit. try the \"good ol' steak salad\" and crabmeat artichoke dip! \n",
            "\n",
            "btw the valet is $3.}{i love this location! the food is always great and the service is good. wi-fi is a plus especially since i am going to school. i come here almost evening i didn't really give it to get the table not sure while i camereak on a friday and night and cabered the waitrest saysi give it sucked more said he was great!}{i know, difinitely got a beeazer for $250morstelking geeat start.}{grill, and we were horger, and the garlic and salad, and the going to salmon and reasonable, recopled with the same thing the tables is a great stuffed boot.}{which i \n",
            "\n",
            "----- diversity: 0.6\n",
            "----- Generating with seed: \" and the food was legit. try the \"good ol' steak salad\" and crabmeat artichoke dip! \n",
            "\n",
            "btw the valet is $3.}{i love this location! the food is always great and the service is good. wi-fi is a plus especially since i am going to school. i come here almost ev\"\n",
            " and the food was legit. try the \"good ol' steak salad\" and crabmeat artichoke dip! \n",
            "\n",
            "btw the valet is $3.}{i love this location! the food is always great and the service is good. wi-fi is a plus especially since i am going to school. i come here almost evenively friends and the keasoree kind when you can hasked on its for take of service is diffine cartach shandbortly couldn't and he walked to grow merican dry for a booder that it's a buing the spreined and i tried the staff right and was pretty good... fray, like.  carking here for the pizza was extramely sitchen and friends andich aren't think i ordered the servere to give ites and they have to \n",
            "\n",
            "----- diversity: 0.8\n",
            "----- Generating with seed: \" and the food was legit. try the \"good ol' steak salad\" and crabmeat artichoke dip! \n",
            "\n",
            "btw the valet is $3.}{i love this location! the food is always great and the service is good. wi-fi is a plus especially since i am going to school. i come here almost ev\"\n",
            " and the food was legit. try the \"good ol' steak salad\" and crabmeat artichoke dip! \n",
            "\n",
            "btw the valet is $3.}{i love this location! the food is always great and the service is good. wi-fi is a plus especially since i am going to school. i come here almost evenible.  i've deeled it. your kighick in grilled to remidred my friends with eating it's phoenix...\n",
            "\n",
            "lith their mander salad.  i'll the cooked that and service is a now sound thisk, so you can rock a decinitely delicious the otling to wait right and here for a light and relinine head this location delicad from the midd the place to sead not and place, give it a try doment for the taking that sugge\n"
          ],
          "name": "stdout"
        }
      ]
    }
  ]
}