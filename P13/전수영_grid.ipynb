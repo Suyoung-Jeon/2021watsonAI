{
  "nbformat": 4,
  "nbformat_minor": 0,
  "metadata": {
    "colab": {
      "name": "gridsearch.ipynb의 사본",
      "provenance": [],
      "collapsed_sections": []
    },
    "kernelspec": {
      "name": "python3",
      "display_name": "Python 3"
    },
    "language_info": {
      "name": "python"
    }
  },
  "cells": [
    {
      "cell_type": "markdown",
      "metadata": {
        "id": "fPckXwWtpmYM"
      },
      "source": [
        "# Grid Search 실습"
      ]
    },
    {
      "cell_type": "markdown",
      "metadata": {
        "id": "bO3cy2LKp8ty"
      },
      "source": [
        "### 데이터셋 다운로드"
      ]
    },
    {
      "cell_type": "code",
      "metadata": {
        "id": "_-A09C_Ygd_E",
        "colab": {
          "base_uri": "https://localhost:8080/"
        },
        "outputId": "599e9d68-4c51-4225-9afd-fb14eb57251d"
      },
      "source": [
        "! wget --no-check-certificate 'https://docs.google.com/uc?export=download&id=1GBtNoT3sC2ZjscrPKaFwb5pBEqLNrF9Z' -O pima-indians-diabetes.csv #https://drive.google.com/file/d/1GBtNoT3sC2ZjscrPKaFwb5pBEqLNrF9Z/view?usp=sharing"
      ],
      "execution_count": 10,
      "outputs": [
        {
          "output_type": "stream",
          "text": [
            "--2021-05-26 06:08:44--  https://docs.google.com/uc?export=download&id=1GBtNoT3sC2ZjscrPKaFwb5pBEqLNrF9Z\n",
            "Resolving docs.google.com (docs.google.com)... 74.125.137.101, 74.125.137.113, 74.125.137.100, ...\n",
            "Connecting to docs.google.com (docs.google.com)|74.125.137.101|:443... connected.\n",
            "HTTP request sent, awaiting response... 302 Moved Temporarily\n",
            "Location: https://doc-0o-1s-docs.googleusercontent.com/docs/securesc/ha0ro937gcuc7l7deffksulhg5h7mbp1/72kk6843tb8hath8mlr62ub4mpue14nd/1622009250000/04591858293269658552/*/1GBtNoT3sC2ZjscrPKaFwb5pBEqLNrF9Z?e=download [following]\n",
            "Warning: wildcards not supported in HTTP.\n",
            "--2021-05-26 06:08:44--  https://doc-0o-1s-docs.googleusercontent.com/docs/securesc/ha0ro937gcuc7l7deffksulhg5h7mbp1/72kk6843tb8hath8mlr62ub4mpue14nd/1622009250000/04591858293269658552/*/1GBtNoT3sC2ZjscrPKaFwb5pBEqLNrF9Z?e=download\n",
            "Resolving doc-0o-1s-docs.googleusercontent.com (doc-0o-1s-docs.googleusercontent.com)... 74.125.137.132, 2607:f8b0:4023:c03::84\n",
            "Connecting to doc-0o-1s-docs.googleusercontent.com (doc-0o-1s-docs.googleusercontent.com)|74.125.137.132|:443... connected.\n",
            "HTTP request sent, awaiting response... 200 OK\n",
            "Length: 23278 (23K) [text/csv]\n",
            "Saving to: ‘pima-indians-diabetes.csv’\n",
            "\n",
            "pima-indians-diabet 100%[===================>]  22.73K  --.-KB/s    in 0.007s  \n",
            "\n",
            "2021-05-26 06:08:44 (3.28 MB/s) - ‘pima-indians-diabetes.csv’ saved [23278/23278]\n",
            "\n"
          ],
          "name": "stdout"
        }
      ]
    },
    {
      "cell_type": "markdown",
      "metadata": {
        "id": "nordxEjdpl3R"
      },
      "source": [
        "## batch size와 epoch 최적화"
      ]
    },
    {
      "cell_type": "code",
      "metadata": {
        "collapsed": true,
        "id": "wjNvrMeJda5J",
        "colab": {
          "base_uri": "https://localhost:8080/"
        },
        "outputId": "2131f709-bfff-49e2-c913-26296c060d4d"
      },
      "source": [
        "#@title\n",
        "# Use scikit-learn to grid search the batch size and epochs\n",
        "import numpy\n",
        "from sklearn.model_selection import GridSearchCV\n",
        "from keras.models import Sequential\n",
        "from keras.layers import Dense\n",
        "from keras.wrappers.scikit_learn import KerasClassifier\n",
        "# Function to create model, required for KerasClassifier\n",
        "def create_model():\n",
        "\t# create model\n",
        "\tmodel = Sequential()\n",
        "\tmodel.add(Dense(12, input_dim=8, activation='relu'))\n",
        "\tmodel.add(Dense(1, activation='sigmoid'))\n",
        "\t# Compile model\n",
        "\tmodel.compile(loss='binary_crossentropy', optimizer='adam', metrics=['accuracy'])\n",
        "\treturn model\n",
        "# fix random seed for reproducibility\n",
        "seed = 7\n",
        "numpy.random.seed(seed)\n",
        "# load dataset\n",
        "dataset = numpy.loadtxt(\"pima-indians-diabetes.csv\", delimiter=\",\")\n",
        "# split into input (X) and output (Y) variables\n",
        "X = dataset[:,0:8]\n",
        "Y = dataset[:,8]\n",
        "# create model\n",
        "model = KerasClassifier(build_fn=create_model, verbose=0)\n",
        "# define the grid search parameters\n",
        "batch_size = [10, 20, 40, 60, 80, 100]\n",
        "epochs = [10, 50, 100]\n",
        "param_grid = dict(batch_size=batch_size, epochs=epochs)\n",
        "grid = GridSearchCV(estimator=model, param_grid=param_grid, n_jobs=-1, cv=3)\n",
        "grid_result = grid.fit(X, Y)\n",
        "# summarize results\n",
        "print(\"Best: %f using %s\" % (grid_result.best_score_, grid_result.best_params_))\n",
        "means = grid_result.cv_results_['mean_test_score']\n",
        "stds = grid_result.cv_results_['std_test_score']\n",
        "params = grid_result.cv_results_['params']\n",
        "for mean, stdev, param in zip(means, stds, params):\n",
        "    print(\"%f (%f) with: %r\" % (mean, stdev, param))"
      ],
      "execution_count": 11,
      "outputs": [
        {
          "output_type": "stream",
          "text": [
            "Best: 0.707031 using {'batch_size': 10, 'epochs': 100}\n",
            "0.593750 (0.035516) with: {'batch_size': 10, 'epochs': 10}\n",
            "0.705729 (0.026748) with: {'batch_size': 10, 'epochs': 50}\n",
            "0.707031 (0.022097) with: {'batch_size': 10, 'epochs': 100}\n",
            "0.593750 (0.032369) with: {'batch_size': 20, 'epochs': 10}\n",
            "0.666667 (0.019225) with: {'batch_size': 20, 'epochs': 50}\n",
            "0.669271 (0.011201) with: {'batch_size': 20, 'epochs': 100}\n",
            "0.601562 (0.027805) with: {'batch_size': 40, 'epochs': 10}\n",
            "0.669271 (0.025976) with: {'batch_size': 40, 'epochs': 50}\n",
            "0.697917 (0.016053) with: {'batch_size': 40, 'epochs': 100}\n",
            "0.552083 (0.045592) with: {'batch_size': 60, 'epochs': 10}\n",
            "0.627604 (0.010253) with: {'batch_size': 60, 'epochs': 50}\n",
            "0.677083 (0.001841) with: {'batch_size': 60, 'epochs': 100}\n",
            "0.467448 (0.061708) with: {'batch_size': 80, 'epochs': 10}\n",
            "0.628906 (0.047628) with: {'batch_size': 80, 'epochs': 50}\n",
            "0.671875 (0.020915) with: {'batch_size': 80, 'epochs': 100}\n",
            "0.457031 (0.078320) with: {'batch_size': 100, 'epochs': 10}\n",
            "0.613281 (0.058027) with: {'batch_size': 100, 'epochs': 50}\n",
            "0.661458 (0.012890) with: {'batch_size': 100, 'epochs': 100}\n"
          ],
          "name": "stdout"
        }
      ]
    },
    {
      "cell_type": "markdown",
      "metadata": {
        "id": "Qa6Mtgpqq9p5"
      },
      "source": [
        "## 학습률과 모멘텀 최적화"
      ]
    },
    {
      "cell_type": "code",
      "metadata": {
        "id": "i-7XNGr6ijr-",
        "colab": {
          "base_uri": "https://localhost:8080/"
        },
        "outputId": "12093311-01d4-48a2-d2ee-6790ac978a70"
      },
      "source": [
        "#@title\n",
        "# Use scikit-learn to grid search the learning rate and momentum\n",
        "import numpy\n",
        "from sklearn.model_selection import GridSearchCV\n",
        "from keras.models import Sequential\n",
        "from keras.layers import Dense\n",
        "from keras.wrappers.scikit_learn import KerasClassifier\n",
        "from keras.optimizers import SGD\n",
        "import time\n",
        "# Function to create model, required for KerasClassifier\n",
        "def create_model(learn_rate=0.01, momentum=0):\n",
        "\t# create model\n",
        "\tmodelx = Sequential()\n",
        "\tmodelx.add(Dense(12, input_dim=8, activation='relu'))\n",
        "\tmodelx.add(Dense(1, activation='sigmoid'))\n",
        "\t# Compile model\n",
        "\toptimizer = SGD(lr=learn_rate, momentum=momentum)\n",
        "\tmodelx.compile(loss='binary_crossentropy', optimizer=optimizer, metrics=['accuracy'])\n",
        "\treturn modelx\n",
        "# fix random seed for reproducibility\n",
        "seed = 7\n",
        "numpy.random.seed(seed)\n",
        "# load dataset\n",
        "dataset = numpy.loadtxt(\"pima-indians-diabetes.csv\", delimiter=\",\")\n",
        "# split into input (X) and output (Y) variables\n",
        "X = dataset[:,0:8]\n",
        "Y = dataset[:,8]\n",
        "# create model\n",
        "modelx = KerasClassifier(build_fn=create_model, epochs=100, batch_size=10, verbose=0)\n",
        "# define the grid search parameters\n",
        "learn_rate = [0.001, 0.01, 0.1, 0.2, 0.3]\n",
        "momentum = [0.0, 0.2, 0.4, 0.6, 0.8, 0.9]\n",
        "param_grid = dict(learn_rate=learn_rate, momentum=momentum)\n",
        "grid = GridSearchCV(estimator=modelx, param_grid=param_grid, n_jobs=-1, cv=3)\n",
        "\n",
        "# 트레이닝 시작\n",
        "start = time.time()\n",
        "print(\"트레이닝 시작\")\n",
        "grid_result = grid.fit(X, Y)\n",
        "end = time.time()\n",
        "print(end - start, ' 초 결렸습니다')    \n",
        "\n",
        "# summarize results\n",
        "print(\"Best: %f using %s\" % (grid_result.best_score_, grid_result.best_params_))\n",
        "means = grid_result.cv_results_['mean_test_score']\n",
        "stds = grid_result.cv_results_['std_test_score']\n",
        "params = grid_result.cv_results_['params']\n",
        "for mean, stdev, param in zip(means, stds, params):\n",
        "    print(\"%f (%f) with: %r\" % (mean, stdev, param))"
      ],
      "execution_count": 12,
      "outputs": [
        {
          "output_type": "stream",
          "text": [
            "트레이닝 시작\n"
          ],
          "name": "stdout"
        },
        {
          "output_type": "stream",
          "text": [
            "/usr/local/lib/python3.7/dist-packages/tensorflow/python/keras/optimizer_v2/optimizer_v2.py:375: UserWarning: The `lr` argument is deprecated, use `learning_rate` instead.\n",
            "  \"The `lr` argument is deprecated, use `learning_rate` instead.\")\n"
          ],
          "name": "stderr"
        },
        {
          "output_type": "stream",
          "text": [
            "442.64753770828247  초 결렸습니다\n",
            "Best: 0.683594 using {'learn_rate': 0.001, 'momentum': 0.4}\n",
            "0.634115 (0.049548) with: {'learn_rate': 0.001, 'momentum': 0.0}\n",
            "0.639323 (0.035564) with: {'learn_rate': 0.001, 'momentum': 0.2}\n",
            "0.683594 (0.019137) with: {'learn_rate': 0.001, 'momentum': 0.4}\n",
            "0.670573 (0.003683) with: {'learn_rate': 0.001, 'momentum': 0.6}\n",
            "0.669271 (0.023939) with: {'learn_rate': 0.001, 'momentum': 0.8}\n",
            "0.660156 (0.035084) with: {'learn_rate': 0.001, 'momentum': 0.9}\n",
            "0.678385 (0.032264) with: {'learn_rate': 0.01, 'momentum': 0.0}\n",
            "0.645833 (0.031948) with: {'learn_rate': 0.01, 'momentum': 0.2}\n",
            "0.654948 (0.019488) with: {'learn_rate': 0.01, 'momentum': 0.4}\n",
            "0.651042 (0.024774) with: {'learn_rate': 0.01, 'momentum': 0.6}\n",
            "0.649740 (0.026557) with: {'learn_rate': 0.01, 'momentum': 0.8}\n",
            "0.652344 (0.025315) with: {'learn_rate': 0.01, 'momentum': 0.9}\n",
            "0.651042 (0.024774) with: {'learn_rate': 0.1, 'momentum': 0.0}\n",
            "0.651042 (0.024774) with: {'learn_rate': 0.1, 'momentum': 0.2}\n",
            "0.651042 (0.024774) with: {'learn_rate': 0.1, 'momentum': 0.4}\n",
            "0.651042 (0.024774) with: {'learn_rate': 0.1, 'momentum': 0.6}\n",
            "0.651042 (0.024774) with: {'learn_rate': 0.1, 'momentum': 0.8}\n",
            "0.651042 (0.024774) with: {'learn_rate': 0.1, 'momentum': 0.9}\n",
            "0.651042 (0.024774) with: {'learn_rate': 0.2, 'momentum': 0.0}\n",
            "0.651042 (0.024774) with: {'learn_rate': 0.2, 'momentum': 0.2}\n",
            "0.651042 (0.024774) with: {'learn_rate': 0.2, 'momentum': 0.4}\n",
            "0.651042 (0.024774) with: {'learn_rate': 0.2, 'momentum': 0.6}\n",
            "0.651042 (0.024774) with: {'learn_rate': 0.2, 'momentum': 0.8}\n",
            "0.651042 (0.024774) with: {'learn_rate': 0.2, 'momentum': 0.9}\n",
            "0.651042 (0.024774) with: {'learn_rate': 0.3, 'momentum': 0.0}\n",
            "0.651042 (0.024774) with: {'learn_rate': 0.3, 'momentum': 0.2}\n",
            "0.651042 (0.024774) with: {'learn_rate': 0.3, 'momentum': 0.4}\n",
            "0.651042 (0.024774) with: {'learn_rate': 0.3, 'momentum': 0.6}\n",
            "0.651042 (0.024774) with: {'learn_rate': 0.3, 'momentum': 0.8}\n",
            "0.651042 (0.024774) with: {'learn_rate': 0.3, 'momentum': 0.9}\n"
          ],
          "name": "stdout"
        }
      ]
    },
    {
      "cell_type": "code",
      "metadata": {
        "id": "cljHZ3vCrIsj",
        "colab": {
          "base_uri": "https://localhost:8080/"
        },
        "outputId": "67ba7395-7fed-4b93-c231-6ccee69b487f"
      },
      "source": [
        "# Use scikit-learn to grid search the learning rate and momentum\n",
        "import numpy\n",
        "from sklearn.model_selection import GridSearchCV\n",
        "from keras.models import Sequential\n",
        "from keras.layers import Dense\n",
        "from keras.wrappers.scikit_learn import KerasClassifier\n",
        "from keras.optimizers import SGD\n",
        "import time\n",
        "# Function to create model, required for KerasClassifier\n",
        "def create_model(learn_rate=0.01, momentum=0):\n",
        "\t# create model\n",
        "\tmodelx = Sequential()\n",
        "\tmodelx.add(Dense(12, input_dim=8, activation='relu'))\n",
        "\tmodelx.add(Dense(1, activation='sigmoid'))\n",
        "\t# Compile model\n",
        "\toptimizer = SGD(lr=learn_rate, momentum=momentum)\n",
        "\tmodelx.compile(loss='binary_crossentropy', optimizer=optimizer, metrics=['accuracy'])\n",
        "\treturn modelx\n",
        "# fix random seed for reproducibility\n",
        "seed = 7\n",
        "numpy.random.seed(seed)\n",
        "# load dataset\n",
        "dataset = numpy.loadtxt(\"pima-indians-diabetes.csv\", delimiter=\",\")\n",
        "# split into input (X) and output (Y) variables\n",
        "X = dataset[:,0:8]\n",
        "Y = dataset[:,8]\n",
        "# create model\n",
        "modelx = KerasClassifier(build_fn=create_model, epochs=100, batch_size=10, verbose=0)\n",
        "# define the grid search parameters\n",
        "# learn_rate와 momentum 두 개의 하이퍼파라미터의 그리드를 코드로 정의하십시오. \n",
        "# learn_rate는 0.001, 0.01. 0.1, 0.2, 0.3로 하고 momentum은 0.0, 0.2, 0.4, 0.6, 0.8, 0.9로 하십시오.\n",
        "learn_rate = [0.001, 0.01, 0.1, 0.2, 0.3]\n",
        "momentum = [0.0, 0.2, 0.4, 0.6, 0.8, 0.9]\n",
        "param_grid = dict(learn_rate=learn_rate, momentum=momentum)\n",
        "grid = GridSearchCV(estimator=modelx, param_grid=param_grid, n_jobs=-1, cv=3)\n",
        "\n",
        "# 트레이닝 시작\n",
        "start = time.time()\n",
        "print(\"트레이닝 시작\")\n",
        "grid_result = grid.fit(X, Y)\n",
        "end = time.time()\n",
        "print(end - start, ' 초 결렸습니다') \n",
        "\n",
        "# summarize results\n",
        "print(\"Best: %f using %s\" % (grid_result.best_score_, grid_result.best_params_))\n",
        "means = grid_result.cv_results_['mean_test_score']\n",
        "stds = grid_result.cv_results_['std_test_score']\n",
        "params = grid_result.cv_results_['params']\n",
        "for mean, stdev, param in zip(means, stds, params):\n",
        "    print(\"%f (%f) with: %r\" % (mean, stdev, param))"
      ],
      "execution_count": 13,
      "outputs": [
        {
          "output_type": "stream",
          "text": [
            "트레이닝 시작\n"
          ],
          "name": "stdout"
        },
        {
          "output_type": "stream",
          "text": [
            "/usr/local/lib/python3.7/dist-packages/tensorflow/python/keras/optimizer_v2/optimizer_v2.py:375: UserWarning: The `lr` argument is deprecated, use `learning_rate` instead.\n",
            "  \"The `lr` argument is deprecated, use `learning_rate` instead.\")\n"
          ],
          "name": "stderr"
        },
        {
          "output_type": "stream",
          "text": [
            "429.20136165618896  초 결렸습니다\n",
            "Best: 0.682292 using {'learn_rate': 0.001, 'momentum': 0.4}\n",
            "0.670573 (0.009207) with: {'learn_rate': 0.001, 'momentum': 0.0}\n",
            "0.680990 (0.019488) with: {'learn_rate': 0.001, 'momentum': 0.2}\n",
            "0.682292 (0.019225) with: {'learn_rate': 0.001, 'momentum': 0.4}\n",
            "0.674479 (0.024360) with: {'learn_rate': 0.001, 'momentum': 0.6}\n",
            "0.678385 (0.022628) with: {'learn_rate': 0.001, 'momentum': 0.8}\n",
            "0.635417 (0.019225) with: {'learn_rate': 0.001, 'momentum': 0.9}\n",
            "0.658854 (0.032264) with: {'learn_rate': 0.01, 'momentum': 0.0}\n",
            "0.660156 (0.034499) with: {'learn_rate': 0.01, 'momentum': 0.2}\n",
            "0.678385 (0.022402) with: {'learn_rate': 0.01, 'momentum': 0.4}\n",
            "0.640625 (0.022326) with: {'learn_rate': 0.01, 'momentum': 0.6}\n",
            "0.649740 (0.026557) with: {'learn_rate': 0.01, 'momentum': 0.8}\n",
            "0.651042 (0.024774) with: {'learn_rate': 0.01, 'momentum': 0.9}\n",
            "0.651042 (0.024774) with: {'learn_rate': 0.1, 'momentum': 0.0}\n",
            "0.651042 (0.024774) with: {'learn_rate': 0.1, 'momentum': 0.2}\n",
            "0.651042 (0.024774) with: {'learn_rate': 0.1, 'momentum': 0.4}\n",
            "0.651042 (0.024774) with: {'learn_rate': 0.1, 'momentum': 0.6}\n",
            "0.651042 (0.024774) with: {'learn_rate': 0.1, 'momentum': 0.8}\n",
            "0.651042 (0.024774) with: {'learn_rate': 0.1, 'momentum': 0.9}\n",
            "0.651042 (0.024774) with: {'learn_rate': 0.2, 'momentum': 0.0}\n",
            "0.651042 (0.024774) with: {'learn_rate': 0.2, 'momentum': 0.2}\n",
            "0.651042 (0.024774) with: {'learn_rate': 0.2, 'momentum': 0.4}\n",
            "0.652344 (0.026107) with: {'learn_rate': 0.2, 'momentum': 0.6}\n",
            "0.651042 (0.024774) with: {'learn_rate': 0.2, 'momentum': 0.8}\n",
            "0.651042 (0.024774) with: {'learn_rate': 0.2, 'momentum': 0.9}\n",
            "0.651042 (0.024774) with: {'learn_rate': 0.3, 'momentum': 0.0}\n",
            "0.651042 (0.024774) with: {'learn_rate': 0.3, 'momentum': 0.2}\n",
            "0.651042 (0.024774) with: {'learn_rate': 0.3, 'momentum': 0.4}\n",
            "0.651042 (0.024774) with: {'learn_rate': 0.3, 'momentum': 0.6}\n",
            "0.651042 (0.024774) with: {'learn_rate': 0.3, 'momentum': 0.8}\n",
            "0.651042 (0.024774) with: {'learn_rate': 0.3, 'momentum': 0.9}\n"
          ],
          "name": "stdout"
        }
      ]
    },
    {
      "cell_type": "code",
      "metadata": {
        "id": "9rX5K2DR1ai5"
      },
      "source": [
        "from keras.layers import Dropout \n",
        "layer = Dropout(rate=0.2, input_shape=(2,))"
      ],
      "execution_count": 14,
      "outputs": []
    },
    {
      "cell_type": "code",
      "metadata": {
        "id": "47-MCbIn2UHc"
      },
      "source": [
        "from keras.layers import LeakyReLU\n",
        "layer = LeakyReLU(alpha=0.1)"
      ],
      "execution_count": 15,
      "outputs": []
    }
  ]
}