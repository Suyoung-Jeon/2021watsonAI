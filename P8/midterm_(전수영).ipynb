{
  "nbformat": 4,
  "nbformat_minor": 0,
  "metadata": {
    "colab": {
      "name": "midterm.ipynb",
      "provenance": [],
      "collapsed_sections": []
    },
    "kernelspec": {
      "name": "python3",
      "display_name": "Python 3"
    }
  },
  "cells": [
    {
      "cell_type": "markdown",
      "metadata": {
        "id": "USdoQTkkAfiU"
      },
      "source": [
        "# 왓슨 인공지능 중간고사 코딩 테스트 문제\n",
        "## 문제 0 : 여러분의 이름을 입력하십시오\n",
        "### your_name_here"
      ]
    },
    {
      "cell_type": "markdown",
      "metadata": {
        "id": "yukDPytdDmt7"
      },
      "source": [
        "###Q1. 다음 신경망 다이어그램을 보고 이를 구현하기 위한 코드를 Keras를 사용하여 밑의 셀에 완성하시오(15점)"
      ]
    },
    {
      "cell_type": "code",
      "metadata": {
        "id": "dbbSoyMeINdZ",
        "colab": {
          "base_uri": "https://localhost:8080/",
          "height": 229
        },
        "outputId": "a44e5e04-4128-4ba5-ab39-b64aaf7bd178"
      },
      "source": [
        "! wget --quiet --no-check-certificate 'https://docs.google.com/uc?export=download&id=1jGQthuWngRlgUq7masWosTq1LyzwUAS7' -O 퍼셉트론.png\n",
        "from IPython.display import Image\n",
        "Image(\"퍼셉트론.png\", width=500)  "
      ],
      "execution_count": 117,
      "outputs": [
        {
          "output_type": "execute_result",
          "data": {
            "image/png": "[encoded data removed]",
            "text/plain": [
              "<IPython.core.display.Image object>"
            ]
          },
          "metadata": {
            "tags": [],
            "image/png": {
              "width": 500
            }
          },
          "execution_count": 117
        }
      ]
    },
    {
      "cell_type": "code",
      "metadata": {
        "colab": {
          "base_uri": "https://localhost:8080/"
        },
        "id": "fTBGSu8DP3HG",
        "outputId": "01315d78-333a-4b87-925e-e6f03fc5affe"
      },
      "source": [
        "import keras\n",
        "from keras.models import Sequential\n",
        "from keras.layers import Dense \n",
        "# your code here\n",
        "\n",
        "model = keras.Sequential(\n",
        "    [\n",
        "      keras.Input(shape=4),\n",
        "      keras.layers.Dense(4),\n",
        "      keras.layers.Dense(2)\n",
        "    ]\n",
        ")    \n",
        "# print your model\n",
        "model.summary()"
      ],
      "execution_count": 118,
      "outputs": [
        {
          "output_type": "stream",
          "text": [
            "Model: \"sequential_2\"\n",
            "_________________________________________________________________\n",
            "Layer (type)                 Output Shape              Param #   \n",
            "=================================================================\n",
            "dense_5 (Dense)              (None, 4)                 20        \n",
            "_________________________________________________________________\n",
            "dense_6 (Dense)              (None, 2)                 10        \n",
            "=================================================================\n",
            "Total params: 30\n",
            "Trainable params: 30\n",
            "Non-trainable params: 0\n",
            "_________________________________________________________________\n"
          ],
          "name": "stdout"
        }
      ]
    },
    {
      "cell_type": "markdown",
      "metadata": {
        "id": "k6z0l1F6d_SU"
      },
      "source": [
        "##Q2. 아래  코드가 출력하는 Training and validation loss 그래프에서 validation loss 값이 모든 epoch 구간에서 training loss 값보다 작도록  코드를 수정하시오. 현재의 코드는 validation loss가 크게 발생하므로 코드 최적화가 필요합니다.(15점)"
      ]
    },
    {
      "cell_type": "code",
      "metadata": {
        "id": "_3uvk7IVeIZs",
        "colab": {
          "base_uri": "https://localhost:8080/",
          "height": 1000
        },
        "outputId": "6bc0510f-58b0-4fd0-9647-131de6e37022"
      },
      "source": [
        "from keras.datasets import mnist\n",
        "from matplotlib import pyplot as plt\n",
        "plt.style.use('dark_background')\n",
        "from keras.models import Sequential\n",
        "from keras.layers import Dense, Flatten, Activation, Dropout\n",
        "from keras.utils import normalize, to_categorical\n",
        "\n",
        "(X_train, y_train), (X_test, y_test) = mnist.load_data()\n",
        "\n",
        "plt.imshow(X_train[0], cmap = plt.cm.binary)\n",
        "plt.show()\n",
        "\n",
        "X_train = normalize(X_train, axis=1)\n",
        "X_test = normalize(X_test, axis=1)\n",
        "y_train = to_categorical(y_train)\n",
        "y_test = to_categorical(y_test)\n",
        "\n",
        "model = Sequential()\n",
        "model.add(Flatten(input_shape=(28, 28)))\n",
        "model.add(Dense(128))\n",
        "model.add(Activation('relu'))\n",
        "model.add(Dense(128))\n",
        "model.add(Activation('relu'))\n",
        "model.add(Dense(10))\n",
        "model.add(Dropout(0.5))\n",
        "model.add(Activation('softmax'))\n",
        "model.summary()\n",
        "\n",
        "model.compile(\n",
        "    loss='categorical_crossentropy',\n",
        "    optimizer='adam',\n",
        "    metrics=['accuracy']\n",
        ")\n",
        "history = model.fit(\n",
        "    X_train,\n",
        "    y_train,\n",
        "    epochs=10,\n",
        "    batch_size=32,\n",
        "    validation_split=0.1,\n",
        "    verbose = 1,\n",
        "    shuffle=True\n",
        ")\n",
        "\n",
        "loss = history.history['loss']\n",
        "val_loss = history.history['val_loss']\n",
        "epochs = range(1, len(loss) + 1)\n",
        "plt.plot(epochs, loss, 'y', label='Training loss')\n",
        "plt.plot(epochs, val_loss, 'r', label='Validation loss')\n",
        "plt.title('Training and validation loss')\n",
        "plt.xlabel('Epochs')\n",
        "plt.ylabel('Loss')\n",
        "plt.legend()\n",
        "plt.show()"
      ],
      "execution_count": 119,
      "outputs": [
        {
          "output_type": "display_data",
          "data": {
            "image/png": "[encoded data removed]",
            "text/plain": [
              "<Figure size 432x288 with 1 Axes>"
            ]
          },
          "metadata": {
            "tags": []
          }
        },
        {
          "output_type": "stream",
          "text": [
            "Model: \"sequential_3\"\n",
            "_________________________________________________________________\n",
            "Layer (type)                 Output Shape              Param #   \n",
            "=================================================================\n",
            "flatten_1 (Flatten)          (None, 784)               0         \n",
            "_________________________________________________________________\n",
            "dense_7 (Dense)              (None, 128)               100480    \n",
            "_________________________________________________________________\n",
            "activation_3 (Activation)    (None, 128)               0         \n",
            "_________________________________________________________________\n",
            "dense_8 (Dense)              (None, 128)               16512     \n",
            "_________________________________________________________________\n",
            "activation_4 (Activation)    (None, 128)               0         \n",
            "_________________________________________________________________\n",
            "dense_9 (Dense)              (None, 10)                1290      \n",
            "_________________________________________________________________\n",
            "dropout_1 (Dropout)          (None, 10)                0         \n",
            "_________________________________________________________________\n",
            "activation_5 (Activation)    (None, 10)                0         \n",
            "=================================================================\n",
            "Total params: 118,282\n",
            "Trainable params: 118,282\n",
            "Non-trainable params: 0\n",
            "_________________________________________________________________\n",
            "Train on 54000 samples, validate on 6000 samples\n",
            "Epoch 1/10\n",
            "54000/54000 [==============================] - 5s 94us/sample - loss: 1.0829 - acc: 0.5551 - val_loss: 0.1644 - val_acc: 0.9610\n",
            "Epoch 2/10\n",
            "54000/54000 [==============================] - 5s 86us/sample - loss: 0.9409 - acc: 0.5836 - val_loss: 0.1310 - val_acc: 0.9622\n",
            "Epoch 3/10\n",
            "54000/54000 [==============================] - 5s 88us/sample - loss: 0.9171 - acc: 0.5873 - val_loss: 0.1028 - val_acc: 0.9697\n",
            "Epoch 4/10\n",
            "54000/54000 [==============================] - 5s 85us/sample - loss: 0.8920 - acc: 0.5936 - val_loss: 0.0997 - val_acc: 0.9695\n",
            "Epoch 5/10\n",
            "54000/54000 [==============================] - 4s 82us/sample - loss: 0.8908 - acc: 0.5908 - val_loss: 0.0812 - val_acc: 0.9768\n",
            "Epoch 6/10\n",
            "54000/54000 [==============================] - 5s 84us/sample - loss: 0.8833 - acc: 0.5893 - val_loss: 0.0837 - val_acc: 0.9752\n",
            "Epoch 7/10\n",
            "54000/54000 [==============================] - 4s 83us/sample - loss: 0.8675 - acc: 0.5953 - val_loss: 0.0711 - val_acc: 0.9778\n",
            "Epoch 8/10\n",
            "54000/54000 [==============================] - 4s 83us/sample - loss: 0.8614 - acc: 0.5985 - val_loss: 0.0689 - val_acc: 0.9783\n",
            "Epoch 9/10\n",
            "54000/54000 [==============================] - 4s 83us/sample - loss: 0.8680 - acc: 0.5952 - val_loss: 0.0747 - val_acc: 0.9785\n",
            "Epoch 10/10\n",
            "54000/54000 [==============================] - 4s 78us/sample - loss: 0.8529 - acc: 0.6002 - val_loss: 0.0664 - val_acc: 0.9803\n"
          ],
          "name": "stdout"
        },
        {
          "output_type": "display_data",
          "data": {
            "image/png": "[encoded data removed]",
            "text/plain": [
              "<Figure size 432x288 with 1 Axes>"
            ]
          },
          "metadata": {
            "tags": []
          }
        }
      ]
    },
    {
      "cell_type": "markdown",
      "metadata": {
        "id": "o176gKn3yL-O"
      },
      "source": [
        "##Q3. Tensorflow로 선형 회귀분석 하기(15점)\n"
      ]
    },
    {
      "cell_type": "code",
      "metadata": {
        "id": "hP0xfoBY2_gO"
      },
      "source": [
        "import os\n",
        "import warnings\n",
        "import matplotlib.pyplot as plt\n",
        "import matplotlib.image as mpimg\n",
        "import pandas as pd\n",
        "import tensorflow.compat.v1 as tf\n",
        "tf.disable_v2_behavior()\n",
        "warnings.filterwarnings(action='ignore')"
      ],
      "execution_count": 120,
      "outputs": []
    },
    {
      "cell_type": "code",
      "metadata": {
        "id": "8pNMT_Qq2_gW",
        "colab": {
          "base_uri": "https://localhost:8080/",
          "height": 249
        },
        "outputId": "3791f5a3-eb3c-4af1-c558-76e7431fd5fb"
      },
      "source": [
        "# 데이터 파일을 다운로드해서 내용을 살펴봅니다.\n",
        "! wget --quiet --no-check 'https://docs.google.com/uc?export=download&id=1gsX2R_WJIyLB6t2PO63OzvwjGdPniXyv' -O offences.csv\n",
        "df = pd.read_csv('offences.csv')\n",
        "df.head()"
      ],
      "execution_count": 121,
      "outputs": [
        {
          "output_type": "execute_result",
          "data": {
            "text/html": [
              "<div>\n",
              "<style scoped>\n",
              "    .dataframe tbody tr th:only-of-type {\n",
              "        vertical-align: middle;\n",
              "    }\n",
              "\n",
              "    .dataframe tbody tr th {\n",
              "        vertical-align: top;\n",
              "    }\n",
              "\n",
              "    .dataframe thead th {\n",
              "        text-align: right;\n",
              "    }\n",
              "</style>\n",
              "<table border=\"1\" class=\"dataframe\">\n",
              "  <thead>\n",
              "    <tr style=\"text-align: right;\">\n",
              "      <th></th>\n",
              "      <th>City</th>\n",
              "      <th>Population</th>\n",
              "      <th>Violent\\ncrime</th>\n",
              "      <th>Murder and\\nnonnegligent\\nmanslaughter</th>\n",
              "      <th>Rape\\n(revised\\ndefinition)1</th>\n",
              "      <th>Rape\\n(legacy\\ndefinition)2</th>\n",
              "      <th>Robbery</th>\n",
              "      <th>Aggravated\\nassault</th>\n",
              "      <th>Property\\ncrime</th>\n",
              "      <th>Burglary</th>\n",
              "      <th>Larceny-\\ntheft</th>\n",
              "      <th>Motor\\nvehicle\\ntheft</th>\n",
              "      <th>Arson3</th>\n",
              "      <th>Unnamed: 13</th>\n",
              "    </tr>\n",
              "  </thead>\n",
              "  <tbody>\n",
              "    <tr>\n",
              "      <th>0</th>\n",
              "      <td>Abernathy</td>\n",
              "      <td>2821.0</td>\n",
              "      <td>0.0</td>\n",
              "      <td>0.0</td>\n",
              "      <td>NaN</td>\n",
              "      <td>0.0</td>\n",
              "      <td>0.0</td>\n",
              "      <td>0.0</td>\n",
              "      <td>12.0</td>\n",
              "      <td>12.0</td>\n",
              "      <td>0.0</td>\n",
              "      <td>0.0</td>\n",
              "      <td>1.0</td>\n",
              "      <td>NaN</td>\n",
              "    </tr>\n",
              "    <tr>\n",
              "      <th>1</th>\n",
              "      <td>Abilene</td>\n",
              "      <td>119401.0</td>\n",
              "      <td>477.0</td>\n",
              "      <td>1.0</td>\n",
              "      <td>NaN</td>\n",
              "      <td>37.0</td>\n",
              "      <td>125.0</td>\n",
              "      <td>314.0</td>\n",
              "      <td>4769.0</td>\n",
              "      <td>1055.0</td>\n",
              "      <td>3460.0</td>\n",
              "      <td>254.0</td>\n",
              "      <td>16.0</td>\n",
              "      <td>NaN</td>\n",
              "    </tr>\n",
              "    <tr>\n",
              "      <th>2</th>\n",
              "      <td>Addison</td>\n",
              "      <td>15961.0</td>\n",
              "      <td>51.0</td>\n",
              "      <td>1.0</td>\n",
              "      <td>NaN</td>\n",
              "      <td>4.0</td>\n",
              "      <td>11.0</td>\n",
              "      <td>35.0</td>\n",
              "      <td>784.0</td>\n",
              "      <td>129.0</td>\n",
              "      <td>593.0</td>\n",
              "      <td>62.0</td>\n",
              "      <td>1.0</td>\n",
              "      <td>NaN</td>\n",
              "    </tr>\n",
              "    <tr>\n",
              "      <th>3</th>\n",
              "      <td>Alamo</td>\n",
              "      <td>18876.0</td>\n",
              "      <td>164.0</td>\n",
              "      <td>0.0</td>\n",
              "      <td>NaN</td>\n",
              "      <td>11.0</td>\n",
              "      <td>27.0</td>\n",
              "      <td>126.0</td>\n",
              "      <td>1336.0</td>\n",
              "      <td>203.0</td>\n",
              "      <td>1052.0</td>\n",
              "      <td>81.0</td>\n",
              "      <td>1.0</td>\n",
              "      <td>NaN</td>\n",
              "    </tr>\n",
              "    <tr>\n",
              "      <th>4</th>\n",
              "      <td>Alamo Heights</td>\n",
              "      <td>7443.0</td>\n",
              "      <td>9.0</td>\n",
              "      <td>0.0</td>\n",
              "      <td>NaN</td>\n",
              "      <td>2.0</td>\n",
              "      <td>2.0</td>\n",
              "      <td>5.0</td>\n",
              "      <td>235.0</td>\n",
              "      <td>36.0</td>\n",
              "      <td>194.0</td>\n",
              "      <td>5.0</td>\n",
              "      <td>0.0</td>\n",
              "      <td>NaN</td>\n",
              "    </tr>\n",
              "  </tbody>\n",
              "</table>\n",
              "</div>"
            ],
            "text/plain": [
              "            City  Population  ...  Arson3  Unnamed: 13\n",
              "0      Abernathy      2821.0  ...     1.0          NaN\n",
              "1        Abilene    119401.0  ...    16.0          NaN\n",
              "2        Addison     15961.0  ...     1.0          NaN\n",
              "3          Alamo     18876.0  ...     1.0          NaN\n",
              "4  Alamo Heights      7443.0  ...     0.0          NaN\n",
              "\n",
              "[5 rows x 14 columns]"
            ]
          },
          "metadata": {
            "tags": []
          },
          "execution_count": 121
        }
      ]
    },
    {
      "cell_type": "markdown",
      "metadata": {
        "id": "6tqGxoz_FSOz"
      },
      "source": [
        "### Q3-1. 위의 데이터프레임을 아래 그림과 같이 정리하십시오. 이때 컬럼 Burglary =  Burlaries 로 이름 바꾸고, 컬럼  Murder and\\nnonnegligent\\nmanslaughter = Manslaughter로 바꾸어주십시오.(3점)"
      ]
    },
    {
      "cell_type": "code",
      "metadata": {
        "colab": {
          "base_uri": "https://localhost:8080/",
          "height": 269
        },
        "id": "X8q-Hmk9G_3y",
        "outputId": "a97bcc24-2dc6-4291-cafc-f14045f7b036"
      },
      "source": [
        "! wget --quiet --no-check 'https://docs.google.com/uc?export=download&id=1QKWl-dIZvjG7KkWhOIpUAAxTBxQ4L_sJ' -O df.png\n",
        "img = mpimg.imread('df.png')\n",
        "imgplot = plt.imshow(img)\n",
        "plt.show()"
      ],
      "execution_count": 122,
      "outputs": [
        {
          "output_type": "display_data",
          "data": {
            "image/png": "[encoded data removed]",
            "text/plain": [
              "<Figure size 432x288 with 1 Axes>"
            ]
          },
          "metadata": {
            "tags": []
          }
        }
      ]
    },
    {
      "cell_type": "code",
      "metadata": {
        "id": "HYHntxF22_gW"
      },
      "source": [
        "# your code here\n",
        "df = df[['Burglary','Murder and\\nnonnegligent\\nmanslaughter']]\n",
        "df.rename(columns = {'Burglary' : 'Burlaries'}, inplace = True)\n",
        "df.rename(columns = {'Murder and\\nnonnegligent\\nmanslaughter' : 'Manslaughte'}, inplace = True)"
      ],
      "execution_count": 123,
      "outputs": []
    },
    {
      "cell_type": "code",
      "metadata": {
        "id": "-RnGjMXGIDtq",
        "colab": {
          "base_uri": "https://localhost:8080/",
          "height": 195
        },
        "outputId": "a5227a4c-923e-449b-8c0d-1ceb3ce6a026"
      },
      "source": [
        "# 제대로 변경되었는지 데이터프레임의 내용을 확인합니다.\n",
        "df.head()"
      ],
      "execution_count": 124,
      "outputs": [
        {
          "output_type": "execute_result",
          "data": {
            "text/html": [
              "<div>\n",
              "<style scoped>\n",
              "    .dataframe tbody tr th:only-of-type {\n",
              "        vertical-align: middle;\n",
              "    }\n",
              "\n",
              "    .dataframe tbody tr th {\n",
              "        vertical-align: top;\n",
              "    }\n",
              "\n",
              "    .dataframe thead th {\n",
              "        text-align: right;\n",
              "    }\n",
              "</style>\n",
              "<table border=\"1\" class=\"dataframe\">\n",
              "  <thead>\n",
              "    <tr style=\"text-align: right;\">\n",
              "      <th></th>\n",
              "      <th>Burlaries</th>\n",
              "      <th>Manslaughte</th>\n",
              "    </tr>\n",
              "  </thead>\n",
              "  <tbody>\n",
              "    <tr>\n",
              "      <th>0</th>\n",
              "      <td>12.0</td>\n",
              "      <td>0.0</td>\n",
              "    </tr>\n",
              "    <tr>\n",
              "      <th>1</th>\n",
              "      <td>1055.0</td>\n",
              "      <td>1.0</td>\n",
              "    </tr>\n",
              "    <tr>\n",
              "      <th>2</th>\n",
              "      <td>129.0</td>\n",
              "      <td>1.0</td>\n",
              "    </tr>\n",
              "    <tr>\n",
              "      <th>3</th>\n",
              "      <td>203.0</td>\n",
              "      <td>0.0</td>\n",
              "    </tr>\n",
              "    <tr>\n",
              "      <th>4</th>\n",
              "      <td>36.0</td>\n",
              "      <td>0.0</td>\n",
              "    </tr>\n",
              "  </tbody>\n",
              "</table>\n",
              "</div>"
            ],
            "text/plain": [
              "   Burlaries  Manslaughte\n",
              "0       12.0          0.0\n",
              "1     1055.0          1.0\n",
              "2      129.0          1.0\n",
              "3      203.0          0.0\n",
              "4       36.0          0.0"
            ]
          },
          "metadata": {
            "tags": []
          },
          "execution_count": 124
        }
      ]
    },
    {
      "cell_type": "code",
      "metadata": {
        "colab": {
          "base_uri": "https://localhost:8080/"
        },
        "id": "ILGBPjq0CJNl",
        "outputId": "9279f321-1d0e-4238-a2b9-a891584ce702"
      },
      "source": [
        "# NaN이 있는지 확인합니다.\n",
        "df.isnull().sum()"
      ],
      "execution_count": 125,
      "outputs": [
        {
          "output_type": "execute_result",
          "data": {
            "text/plain": [
              "Burlaries      3\n",
              "Manslaughte    3\n",
              "dtype: int64"
            ]
          },
          "metadata": {
            "tags": []
          },
          "execution_count": 125
        }
      ]
    },
    {
      "cell_type": "markdown",
      "metadata": {
        "id": "0GDniyxp2_gX"
      },
      "source": [
        "### Q3-2. Pandas의 dropna()를 사용하여 NaN이 있는 row들을 삭제하고 그 결과를 원래의 df 오브젝트로 저장하십시오. (3점)\n",
        "### 참조: https://pandas.pydata.org/pandas-docs/stable/reference/api/pandas.DataFrame.dropna.html"
      ]
    },
    {
      "cell_type": "code",
      "metadata": {
        "id": "AC-XyPEV2_gX"
      },
      "source": [
        "# your code here\n",
        "df=df.dropna(axis=0)"
      ],
      "execution_count": 126,
      "outputs": []
    },
    {
      "cell_type": "code",
      "metadata": {
        "colab": {
          "base_uri": "https://localhost:8080/"
        },
        "id": "e1dbslcLCXbz",
        "outputId": "b209f7b5-dfbb-4ef6-ede2-2bc465936af0"
      },
      "source": [
        "# 제대로 정제되었는지 확인합니다.\n",
        "df.isnull().sum()"
      ],
      "execution_count": 127,
      "outputs": [
        {
          "output_type": "execute_result",
          "data": {
            "text/plain": [
              "Burlaries      0\n",
              "Manslaughte    0\n",
              "dtype: int64"
            ]
          },
          "metadata": {
            "tags": []
          },
          "execution_count": 127
        }
      ]
    },
    {
      "cell_type": "code",
      "metadata": {
        "id": "3X7Y5XSm2_gX"
      },
      "source": [
        "# learn rate와 epoch의 값을 지정합니다.\n",
        "learningRate = 0.0000001\n",
        "numEpochs = 15"
      ],
      "execution_count": 128,
      "outputs": []
    },
    {
      "cell_type": "code",
      "metadata": {
        "id": "T9heKWmR2_gY"
      },
      "source": [
        "# 텐서들을 초기화합니다.\n",
        "x = tf.placeholder(tf.float32, shape=(None, ))\n",
        "y = tf.placeholder(tf.float32, shape=(None, ))\n",
        "w = tf.Variable(tf.zeros(shape=[1]))\n",
        "b = tf.Variable(tf.zeros(shape=[1]))"
      ],
      "execution_count": 129,
      "outputs": []
    },
    {
      "cell_type": "markdown",
      "metadata": {
        "id": "41G5E5ND2_gY"
      },
      "source": [
        "### Q3-3. 아래 셀 중에 your code here 부분을 완성하십시오.(9점)"
      ]
    },
    {
      "cell_type": "code",
      "metadata": {
        "id": "g_W79sob2_gY",
        "colab": {
          "base_uri": "https://localhost:8080/"
        },
        "outputId": "98c10f89-8483-4566-efdb-b8461ecf3d69"
      },
      "source": [
        "# Predictor변수를 y_pred로 이름짓고 y_pred = x * W + b 텐서 연산을 정의하십시오\n",
        "y_pred = tf.add(tf.multiply(w, x), b)\n",
        "\n",
        "\n",
        "# loss 함수를 최소자승법을 사용하여 정의하십시오. y와 y_pred의 차이의 제곱을 사용\n",
        "loss = tf.reduce_mean(tf.square(y_pred))\n",
        "\n",
        "\n",
        "# optimizer를 기본 경사하강법을 사용하여 정의하십시오.\n",
        "optimiser = tf.train.GradientDescentOptimizer(learning_rate=0.01).minimize(loss)\n",
        "\n",
        "\n",
        "with tf.Session() as session:\n",
        "    session.run(tf.global_variables_initializer())\n",
        "\n",
        "    input, output = df.iloc[:, 0], df.iloc[:, 1]\n",
        "    for epoch in range(numEpochs):\n",
        "        _, sampleLoss, pred = session.run([optimiser, loss, y_pred], {x: input, y: output})\n",
        "        print(\"EPOCH:\", epoch + 1)\n",
        "        print(\"LOSS: \", sampleLoss)\n",
        "        print(\"\")\n",
        "\n",
        "    y_preds = session.run(y_pred, {x: input, y: output})"
      ],
      "execution_count": 130,
      "outputs": [
        {
          "output_type": "stream",
          "text": [
            "EPOCH: 1\n",
            "LOSS:  0.0\n",
            "\n",
            "EPOCH: 2\n",
            "LOSS:  0.0\n",
            "\n",
            "EPOCH: 3\n",
            "LOSS:  0.0\n",
            "\n",
            "EPOCH: 4\n",
            "LOSS:  0.0\n",
            "\n",
            "EPOCH: 5\n",
            "LOSS:  0.0\n",
            "\n",
            "EPOCH: 6\n",
            "LOSS:  0.0\n",
            "\n",
            "EPOCH: 7\n",
            "LOSS:  0.0\n",
            "\n",
            "EPOCH: 8\n",
            "LOSS:  0.0\n",
            "\n",
            "EPOCH: 9\n",
            "LOSS:  0.0\n",
            "\n",
            "EPOCH: 10\n",
            "LOSS:  0.0\n",
            "\n",
            "EPOCH: 11\n",
            "LOSS:  0.0\n",
            "\n",
            "EPOCH: 12\n",
            "LOSS:  0.0\n",
            "\n",
            "EPOCH: 13\n",
            "LOSS:  0.0\n",
            "\n",
            "EPOCH: 14\n",
            "LOSS:  0.0\n",
            "\n",
            "EPOCH: 15\n",
            "LOSS:  0.0\n",
            "\n"
          ],
          "name": "stdout"
        }
      ]
    },
    {
      "cell_type": "code",
      "metadata": {
        "id": "EedrCvaq2_gZ",
        "colab": {
          "base_uri": "https://localhost:8080/",
          "height": 265
        },
        "outputId": "c2c51685-3b0d-4337-d38a-073dab3161b9"
      },
      "source": [
        "# 결과를 그래프로 출력하여 확인합니다.\n",
        "for i in range(df.shape[0]):\n",
        "    x, y = df.iloc[i, 0], df.iloc[i, 1]\n",
        "    plt.scatter(x, y, c='b')\n",
        "\n",
        "plt.plot(input, y_preds, c='r')\n",
        "\n",
        "plt.show()"
      ],
      "execution_count": 131,
      "outputs": [
        {
          "output_type": "display_data",
          "data": {
            "image/png": "[encoded data removed]",
            "text/plain": [
              "<Figure size 432x288 with 1 Axes>"
            ]
          },
          "metadata": {
            "tags": []
          }
        }
      ]
    },
    {
      "cell_type": "markdown",
      "metadata": {
        "id": "Q_ZqqZcvN1PQ"
      },
      "source": [
        "# 코딩 테스트를 완료하였습니다!\n",
        "# 이 파일을 LMS 과제  \"중간고사 코딩테스트\"에 midterm_(yourName).ipynb 파일로 제출해주십시오.\n",
        "# 수고하였습니다!"
      ]
    },
    {
      "cell_type": "code",
      "metadata": {
        "id": "jiucBWAnQAFk"
      },
      "source": [
        ""
      ],
      "execution_count": 131,
      "outputs": []
    }
  ]
}