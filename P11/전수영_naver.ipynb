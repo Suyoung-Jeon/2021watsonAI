{
  "nbformat": 4,
  "nbformat_minor": 0,
  "metadata": {
    "kernelspec": {
      "display_name": "Python 3",
      "language": "python",
      "name": "python3"
    },
    "language_info": {
      "codemirror_mode": {
        "name": "ipython",
        "version": 3
      },
      "file_extension": ".py",
      "mimetype": "text/x-python",
      "name": "python",
      "nbconvert_exporter": "python",
      "pygments_lexer": "ipython3",
      "version": "3.6.8"
    },
    "colab": {
      "name": "NaverMovie-withoutModel.ipynb",
      "provenance": [],
      "collapsed_sections": []
    }
  },
  "cells": [
    {
      "cell_type": "code",
      "metadata": {
        "colab": {
          "base_uri": "https://localhost:8080/"
        },
        "id": "6wwcOsM_65Fy",
        "outputId": "3b0481ba-b8d4-4946-d815-893ab31945fd"
      },
      "source": [
        "\n",
        "! pip install utils\n",
        "! pip install paramiko\n",
        "! pip install nltk"
      ],
      "execution_count": 1,
      "outputs": [
        {
          "output_type": "stream",
          "text": [
            "Collecting utils\n",
            "  Downloading https://files.pythonhosted.org/packages/55/e6/c2d2b2703e7debc8b501caae0e6f7ead148fd0faa3c8131292a599930029/utils-1.0.1-py2.py3-none-any.whl\n",
            "Installing collected packages: utils\n",
            "Successfully installed utils-1.0.1\n",
            "Collecting paramiko\n",
            "\u001b[?25l  Downloading https://files.pythonhosted.org/packages/95/19/124e9287b43e6ff3ebb9cdea3e5e8e88475a873c05ccdf8b7e20d2c4201e/paramiko-2.7.2-py2.py3-none-any.whl (206kB)\n",
            "\u001b[K     |████████████████████████████████| 215kB 5.2MB/s \n",
            "\u001b[?25hCollecting pynacl>=1.0.1\n",
            "\u001b[?25l  Downloading https://files.pythonhosted.org/packages/9d/57/2f5e6226a674b2bcb6db531e8b383079b678df5b10cdaa610d6cf20d77ba/PyNaCl-1.4.0-cp35-abi3-manylinux1_x86_64.whl (961kB)\n",
            "\u001b[K     |████████████████████████████████| 962kB 9.3MB/s \n",
            "\u001b[?25hCollecting bcrypt>=3.1.3\n",
            "\u001b[?25l  Downloading https://files.pythonhosted.org/packages/26/70/6d218afbe4c73538053c1016dd631e8f25fffc10cd01f5c272d7acf3c03d/bcrypt-3.2.0-cp36-abi3-manylinux2010_x86_64.whl (63kB)\n",
            "\u001b[K     |████████████████████████████████| 71kB 6.8MB/s \n",
            "\u001b[?25hCollecting cryptography>=2.5\n",
            "\u001b[?25l  Downloading https://files.pythonhosted.org/packages/b2/26/7af637e6a7e87258b963f1731c5982fb31cd507f0d90d91836e446955d02/cryptography-3.4.7-cp36-abi3-manylinux2014_x86_64.whl (3.2MB)\n",
            "\u001b[K     |████████████████████████████████| 3.2MB 17.6MB/s \n",
            "\u001b[?25hRequirement already satisfied: six in /usr/local/lib/python3.7/dist-packages (from pynacl>=1.0.1->paramiko) (1.15.0)\n",
            "Requirement already satisfied: cffi>=1.4.1 in /usr/local/lib/python3.7/dist-packages (from pynacl>=1.0.1->paramiko) (1.14.5)\n",
            "Requirement already satisfied: pycparser in /usr/local/lib/python3.7/dist-packages (from cffi>=1.4.1->pynacl>=1.0.1->paramiko) (2.20)\n",
            "Installing collected packages: pynacl, bcrypt, cryptography, paramiko\n",
            "Successfully installed bcrypt-3.2.0 cryptography-3.4.7 paramiko-2.7.2 pynacl-1.4.0\n",
            "Requirement already satisfied: nltk in /usr/local/lib/python3.7/dist-packages (3.2.5)\n",
            "Requirement already satisfied: six in /usr/local/lib/python3.7/dist-packages (from nltk) (1.15.0)\n"
          ],
          "name": "stdout"
        }
      ]
    },
    {
      "cell_type": "code",
      "metadata": {
        "colab": {
          "base_uri": "https://localhost:8080/"
        },
        "id": "9IoLpgnc65F6",
        "outputId": "8f9b51d9-1c72-4560-ce32-202b6b0d1205"
      },
      "source": [
        "! pip  install konlpy"
      ],
      "execution_count": 2,
      "outputs": [
        {
          "output_type": "stream",
          "text": [
            "Collecting konlpy\n",
            "\u001b[?25l  Downloading https://files.pythonhosted.org/packages/85/0e/f385566fec837c0b83f216b2da65db9997b35dd675e107752005b7d392b1/konlpy-0.5.2-py2.py3-none-any.whl (19.4MB)\n",
            "\u001b[K     |████████████████████████████████| 19.4MB 1.3MB/s \n",
            "\u001b[?25hCollecting colorama\n",
            "  Downloading https://files.pythonhosted.org/packages/44/98/5b86278fbbf250d239ae0ecb724f8572af1c91f4a11edf4d36a206189440/colorama-0.4.4-py2.py3-none-any.whl\n",
            "Requirement already satisfied: numpy>=1.6 in /usr/local/lib/python3.7/dist-packages (from konlpy) (1.19.5)\n",
            "Collecting JPype1>=0.7.0\n",
            "\u001b[?25l  Downloading https://files.pythonhosted.org/packages/cd/a5/9781e2ef4ca92d09912c4794642c1653aea7607f473e156cf4d423a881a1/JPype1-1.2.1-cp37-cp37m-manylinux2010_x86_64.whl (457kB)\n",
            "\u001b[K     |████████████████████████████████| 460kB 29.3MB/s \n",
            "\u001b[?25hRequirement already satisfied: tweepy>=3.7.0 in /usr/local/lib/python3.7/dist-packages (from konlpy) (3.10.0)\n",
            "Requirement already satisfied: lxml>=4.1.0 in /usr/local/lib/python3.7/dist-packages (from konlpy) (4.2.6)\n",
            "Collecting beautifulsoup4==4.6.0\n",
            "\u001b[?25l  Downloading https://files.pythonhosted.org/packages/9e/d4/10f46e5cfac773e22707237bfcd51bbffeaf0a576b0a847ec7ab15bd7ace/beautifulsoup4-4.6.0-py3-none-any.whl (86kB)\n",
            "\u001b[K     |████████████████████████████████| 92kB 9.3MB/s \n",
            "\u001b[?25hRequirement already satisfied: typing-extensions; python_version < \"3.8\" in /usr/local/lib/python3.7/dist-packages (from JPype1>=0.7.0->konlpy) (3.7.4.3)\n",
            "Requirement already satisfied: six>=1.10.0 in /usr/local/lib/python3.7/dist-packages (from tweepy>=3.7.0->konlpy) (1.15.0)\n",
            "Requirement already satisfied: requests[socks]>=2.11.1 in /usr/local/lib/python3.7/dist-packages (from tweepy>=3.7.0->konlpy) (2.23.0)\n",
            "Requirement already satisfied: requests-oauthlib>=0.7.0 in /usr/local/lib/python3.7/dist-packages (from tweepy>=3.7.0->konlpy) (1.3.0)\n",
            "Requirement already satisfied: idna<3,>=2.5 in /usr/local/lib/python3.7/dist-packages (from requests[socks]>=2.11.1->tweepy>=3.7.0->konlpy) (2.10)\n",
            "Requirement already satisfied: urllib3!=1.25.0,!=1.25.1,<1.26,>=1.21.1 in /usr/local/lib/python3.7/dist-packages (from requests[socks]>=2.11.1->tweepy>=3.7.0->konlpy) (1.24.3)\n",
            "Requirement already satisfied: certifi>=2017.4.17 in /usr/local/lib/python3.7/dist-packages (from requests[socks]>=2.11.1->tweepy>=3.7.0->konlpy) (2020.12.5)\n",
            "Requirement already satisfied: chardet<4,>=3.0.2 in /usr/local/lib/python3.7/dist-packages (from requests[socks]>=2.11.1->tweepy>=3.7.0->konlpy) (3.0.4)\n",
            "Requirement already satisfied: PySocks!=1.5.7,>=1.5.6; extra == \"socks\" in /usr/local/lib/python3.7/dist-packages (from requests[socks]>=2.11.1->tweepy>=3.7.0->konlpy) (1.7.1)\n",
            "Requirement already satisfied: oauthlib>=3.0.0 in /usr/local/lib/python3.7/dist-packages (from requests-oauthlib>=0.7.0->tweepy>=3.7.0->konlpy) (3.1.0)\n",
            "Installing collected packages: colorama, JPype1, beautifulsoup4, konlpy\n",
            "  Found existing installation: beautifulsoup4 4.6.3\n",
            "    Uninstalling beautifulsoup4-4.6.3:\n",
            "      Successfully uninstalled beautifulsoup4-4.6.3\n",
            "Successfully installed JPype1-1.2.1 beautifulsoup4-4.6.0 colorama-0.4.4 konlpy-0.5.2\n"
          ],
          "name": "stdout"
        }
      ]
    },
    {
      "cell_type": "code",
      "metadata": {
        "colab": {
          "base_uri": "https://localhost:8080/"
        },
        "id": "m_6LIO0565F7",
        "outputId": "eba18144-5a93-4563-bc82-fe3b5910b37f"
      },
      "source": [
        "! pip install gensim"
      ],
      "execution_count": 3,
      "outputs": [
        {
          "output_type": "stream",
          "text": [
            "Requirement already satisfied: gensim in /usr/local/lib/python3.7/dist-packages (3.6.0)\n",
            "Requirement already satisfied: scipy>=0.18.1 in /usr/local/lib/python3.7/dist-packages (from gensim) (1.4.1)\n",
            "Requirement already satisfied: numpy>=1.11.3 in /usr/local/lib/python3.7/dist-packages (from gensim) (1.19.5)\n",
            "Requirement already satisfied: six>=1.5.0 in /usr/local/lib/python3.7/dist-packages (from gensim) (1.15.0)\n",
            "Requirement already satisfied: smart-open>=1.2.1 in /usr/local/lib/python3.7/dist-packages (from gensim) (5.0.0)\n"
          ],
          "name": "stdout"
        }
      ]
    },
    {
      "cell_type": "code",
      "metadata": {
        "colab": {
          "base_uri": "https://localhost:8080/"
        },
        "id": "K_owrp0G7k0X",
        "outputId": "cbffa375-e25b-493f-8a01-1f56b0cdb944"
      },
      "source": [
        "! wget --load-cookies /tmp/cookies.txt \"https://docs.google.com/uc?export=download&confirm=$(wget --quiet --save-cookies /tmp/cookies.txt --keep-session-cookies --no-check-certificate 'https://docs.google.com/uc?export=download&id=1pB98oL46qBz_Y33qsXfQ94YjVe_YRWfU' -O- | sed -rn 's/.*confirm=([0-9A-Za-z_]+).*/\\1\\n/p')&id=1pB98oL46qBz_Y33qsXfQ94YjVe_YRWfU\" -O ratings_train.txt && rm -rf /tmp/cookies.txt\n",
        "#https://drive.google.com/file/d/1pB98oL46qBz_Y33qsXfQ94YjVe_YRWfU/view?usp=sharing"
      ],
      "execution_count": 4,
      "outputs": [
        {
          "output_type": "stream",
          "text": [
            "--2021-05-12 08:59:03--  https://docs.google.com/uc?export=download&confirm=&id=1pB98oL46qBz_Y33qsXfQ94YjVe_YRWfU\n",
            "Resolving docs.google.com (docs.google.com)... 142.250.136.113, 142.250.136.138, 142.250.136.102, ...\n",
            "Connecting to docs.google.com (docs.google.com)|142.250.136.113|:443... connected.\n",
            "HTTP request sent, awaiting response... 302 Moved Temporarily\n",
            "Location: https://doc-10-2k-docs.googleusercontent.com/docs/securesc/39dnsr898k1fsifnkv4t40869hod8jdj/lsuopjdqpgj32kqphfqnfrn629a01dpt/1620809925000/04591858293269658552/10669764955762685551Z/1pB98oL46qBz_Y33qsXfQ94YjVe_YRWfU?e=download [following]\n",
            "--2021-05-12 08:59:04--  https://doc-10-2k-docs.googleusercontent.com/docs/securesc/39dnsr898k1fsifnkv4t40869hod8jdj/lsuopjdqpgj32kqphfqnfrn629a01dpt/1620809925000/04591858293269658552/10669764955762685551Z/1pB98oL46qBz_Y33qsXfQ94YjVe_YRWfU?e=download\n",
            "Resolving doc-10-2k-docs.googleusercontent.com (doc-10-2k-docs.googleusercontent.com)... 142.250.148.132, 2607:f8b0:4001:c54::84\n",
            "Connecting to doc-10-2k-docs.googleusercontent.com (doc-10-2k-docs.googleusercontent.com)|142.250.148.132|:443... connected.\n",
            "HTTP request sent, awaiting response... 302 Found\n",
            "Location: https://docs.google.com/nonceSigner?nonce=jfjussmhj8g6k&continue=https://doc-10-2k-docs.googleusercontent.com/docs/securesc/39dnsr898k1fsifnkv4t40869hod8jdj/lsuopjdqpgj32kqphfqnfrn629a01dpt/1620809925000/04591858293269658552/10669764955762685551Z/1pB98oL46qBz_Y33qsXfQ94YjVe_YRWfU?e%3Ddownload&hash=ejjc73t286rd41mf87591k7nl5leaabh [following]\n",
            "--2021-05-12 08:59:04--  https://docs.google.com/nonceSigner?nonce=jfjussmhj8g6k&continue=https://doc-10-2k-docs.googleusercontent.com/docs/securesc/39dnsr898k1fsifnkv4t40869hod8jdj/lsuopjdqpgj32kqphfqnfrn629a01dpt/1620809925000/04591858293269658552/10669764955762685551Z/1pB98oL46qBz_Y33qsXfQ94YjVe_YRWfU?e%3Ddownload&hash=ejjc73t286rd41mf87591k7nl5leaabh\n",
            "Connecting to docs.google.com (docs.google.com)|142.250.136.113|:443... connected.\n",
            "HTTP request sent, awaiting response... 302 Found\n",
            "Location: https://doc-10-2k-docs.googleusercontent.com/docs/securesc/39dnsr898k1fsifnkv4t40869hod8jdj/lsuopjdqpgj32kqphfqnfrn629a01dpt/1620809925000/04591858293269658552/10669764955762685551Z/1pB98oL46qBz_Y33qsXfQ94YjVe_YRWfU?e=download&nonce=jfjussmhj8g6k&user=10669764955762685551Z&hash=1cv620h0ipo7pqt4vjo55htucrt1bi5f [following]\n",
            "--2021-05-12 08:59:04--  https://doc-10-2k-docs.googleusercontent.com/docs/securesc/39dnsr898k1fsifnkv4t40869hod8jdj/lsuopjdqpgj32kqphfqnfrn629a01dpt/1620809925000/04591858293269658552/10669764955762685551Z/1pB98oL46qBz_Y33qsXfQ94YjVe_YRWfU?e=download&nonce=jfjussmhj8g6k&user=10669764955762685551Z&hash=1cv620h0ipo7pqt4vjo55htucrt1bi5f\n",
            "Connecting to doc-10-2k-docs.googleusercontent.com (doc-10-2k-docs.googleusercontent.com)|142.250.148.132|:443... connected.\n",
            "HTTP request sent, awaiting response... 200 OK\n",
            "Length: unspecified [text/plain]\n",
            "Saving to: ‘ratings_train.txt’\n",
            "\n",
            "ratings_train.txt       [ <=>                ]  13.95M  --.-KB/s    in 0.07s   \n",
            "\n",
            "2021-05-12 08:59:05 (193 MB/s) - ‘ratings_train.txt’ saved [14628807]\n",
            "\n"
          ],
          "name": "stdout"
        }
      ]
    },
    {
      "cell_type": "code",
      "metadata": {
        "colab": {
          "base_uri": "https://localhost:8080/"
        },
        "id": "NX1iG1Th65F7",
        "outputId": "2f913e5b-582a-405c-d3bc-a372fbdb150c"
      },
      "source": [
        " import csv\n",
        " from konlpy.tag import Okt\n",
        " from gensim.models import word2vec\n",
        " import time\n",
        "\n",
        " #네이버 영화 코퍼스를 읽는다.\n",
        " f = open('ratings_train.txt', 'r', encoding='utf-8')\n",
        " rdr = csv.reader(f, delimiter='\\t')\n",
        " rdw = list(rdr)\n",
        " f.close()\n",
        "\n",
        " #트위터 형태소 분석기를 로드한다. Twiter가 KoNLPy v0.4.5 부터 Okt로 변경 되었다.\n",
        " twitter = Okt()\n",
        "print(\"Okt done\")\n",
        "\n",
        "start = time.time()\n",
        "print(\"형태소 분석 시작\")\n",
        "\n",
        " #텍스트를 한줄씩 처리합니다.\n",
        " result = []\n",
        " for line in rdw:\n",
        "     #형태소 분석하기, 단어 기본형 사용\n",
        "     malist = twitter.pos( line[1], norm=True, stem=True)\n",
        "     r = []\n",
        "     for word in malist:\n",
        "         #Josa”, “Eomi”, “'Punctuation” 는 제외하고 처리\n",
        "         if not word[1] in [\"Josa\",\"Eomi\",\"Punctuation\"]:\n",
        "             r.append(word[0])\n",
        "     #형태소 사이에 공백 \" \"  을 넣습니다. 그리고 양쪽 공백을 지웁니다.\n",
        "     rl = (\" \".join(r)).strip()\n",
        "     result.append(rl)\n",
        "     #print(rl)\n",
        "end = time.time()         \n",
        "print(\"형태소 분석 완료\")\n",
        "print(end - start, ' 초 결렸습니다')\n",
        "\n",
        " #형태소들을 별도의 파일로 저장 합니다.\n",
        " with open(\"NaverMovie.nlp\",'w', encoding='utf-8') as fp:\n",
        "     fp.write(\"\\n\".join(result))\n",
        "\n",
        " #Word2Vec 모델 만들기\n",
        " wData = word2vec.LineSentence(\"NaverMovie.nlp\")\n",
        "\n",
        "# 트레이닝 시간 측정 \n",
        "start = time.time()\n",
        "print(\"트레이닝 시작\")\n",
        " wModel =word2vec.Word2Vec(wData, size=200, window=10, hs=1, min_count=2, sg=1)\n",
        " wModel.save(\"NaverMovie.model\")\n",
        " print(\"Word2Vec 모델링 완료\")\n",
        "end = time.time()\n",
        "print(end - start, ' 초 결렸습니다') "
      ],
      "execution_count": 5,
      "outputs": [
        {
          "output_type": "stream",
          "text": [
            "Okt done\n",
            "형태소 분석 시작\n",
            "형태소 분석 완료\n",
            "568.2109589576721  초 결렸습니다\n",
            "트레이닝 시작\n",
            "Word2Vec 모델링 완료\n",
            "149.65235018730164  초 결렸습니다\n"
          ],
          "name": "stdout"
        }
      ]
    },
    {
      "cell_type": "code",
      "metadata": {
        "colab": {
          "base_uri": "https://localhost:8080/"
        },
        "id": "CPO-XaOm65F9",
        "outputId": "65e5c654-18ef-4428-ad42-cb21e2c90abd"
      },
      "source": [
        "! ls -l"
      ],
      "execution_count": 6,
      "outputs": [
        {
          "output_type": "stream",
          "text": [
            "total 123688\n",
            "-rw-r--r-- 1 root root 100487692 May 12 09:11 NaverMovie.model\n",
            "-rw-r--r-- 1 root root  11528154 May 12 09:08 NaverMovie.nlp\n",
            "-rw-r--r-- 1 root root  14628807 May 12 08:59 ratings_train.txt\n",
            "drwxr-xr-x 1 root root      4096 May  6 13:44 sample_data\n"
          ],
          "name": "stdout"
        }
      ]
    },
    {
      "cell_type": "code",
      "metadata": {
        "colab": {
          "base_uri": "https://localhost:8080/"
        },
        "id": "y0h_48Td65F9",
        "outputId": "c3b076ac-697e-4d69-b252-bd9aaed056ca"
      },
      "source": [
        "model = word2vec.Word2Vec.load(\"NaverMovie.model\")\n",
        "print(model.wv.most_similar(positive=[\"최고\"]))"
      ],
      "execution_count": 7,
      "outputs": [
        {
          "output_type": "stream",
          "text": [
            "[('최고다', 0.7061713933944702), ('꼽을', 0.6986552476882935), ('꼽는', 0.6787864565849304), ('정치드라마', 0.6615253686904907), ('ER', 0.6564915776252747), ('단연', 0.6541619300842285), ('하이스쿨', 0.6447616219520569), ('꼽겠다', 0.6359808444976807), ('쵝', 0.6199023127555847), ('으뜸', 0.6197708249092102)]\n"
          ],
          "name": "stdout"
        }
      ]
    }
  ]
}