{
  "nbformat": 4,
  "nbformat_minor": 0,
  "metadata": {
    "colab": {
      "name": "tensorBasic.ipynb",
      "provenance": [],
      "collapsed_sections": []
    },
    "kernelspec": {
      "name": "python3",
      "display_name": "Python 3"
    }
  },
  "cells": [
    {
      "cell_type": "markdown",
      "metadata": {
        "id": "0MCTPwo-I_9X"
      },
      "source": [
        "복잡한 행렬식은 파이썬 코드로 간단하게 처리할 수 있습니다!"
      ]
    },
    {
      "cell_type": "code",
      "metadata": {
        "id": "rweaNDpildjE"
      },
      "source": [
        "import tensorflow as tf"
      ],
      "execution_count": 1,
      "outputs": []
    },
    {
      "cell_type": "markdown",
      "metadata": {
        "id": "qQZ3i0apJYUM"
      },
      "source": [
        "이것이 2x3 행렬을 코드로 표현한 것입니다"
      ]
    },
    {
      "cell_type": "code",
      "metadata": {
        "id": "JQUJ6rE1kVdr",
        "colab": {
          "base_uri": "https://localhost:8080/"
        },
        "outputId": "abae6c08-c669-4635-d15d-7e3f7e633658"
      },
      "source": [
        "x=tf.constant([[1.0,2.0,3.0],[4.0,5.0,6.0]])\n",
        "print(x)\n",
        "print(x.shape)"
      ],
      "execution_count": 2,
      "outputs": [
        {
          "output_type": "stream",
          "text": [
            "tf.Tensor(\n",
            "[[1. 2. 3.]\n",
            " [4. 5. 6.]], shape=(2, 3), dtype=float32)\n",
            "(2, 3)\n"
          ],
          "name": "stdout"
        }
      ]
    },
    {
      "cell_type": "markdown",
      "metadata": {
        "id": "kVSerqtcJ_B1"
      },
      "source": [
        "행렬의 덧셈"
      ]
    },
    {
      "cell_type": "code",
      "metadata": {
        "id": "bA9D52I-YMKR",
        "colab": {
          "base_uri": "https://localhost:8080/"
        },
        "outputId": "c8812752-ce2f-492f-b0d1-0e25cfd69aeb"
      },
      "source": [
        "j=tf.constant([1,2,3,4,5,6], shape=[2,3])\n",
        "print(j)\n",
        "k=tf.constant([7,8,9,10,11,12], shape=[2,3])\n",
        "print(k)\n",
        "l=tf.add(j,k)\n",
        "print(l)"
      ],
      "execution_count": 3,
      "outputs": [
        {
          "output_type": "stream",
          "text": [
            "tf.Tensor(\n",
            "[[1 2 3]\n",
            " [4 5 6]], shape=(2, 3), dtype=int32)\n",
            "tf.Tensor(\n",
            "[[ 7  8  9]\n",
            " [10 11 12]], shape=(2, 3), dtype=int32)\n",
            "tf.Tensor(\n",
            "[[ 8 10 12]\n",
            " [14 16 18]], shape=(2, 3), dtype=int32)\n"
          ],
          "name": "stdout"
        }
      ]
    },
    {
      "cell_type": "markdown",
      "metadata": {
        "id": "W4J-lK9uKFV8"
      },
      "source": [
        "행렬의 곱셈"
      ]
    },
    {
      "cell_type": "code",
      "metadata": {
        "id": "FULRdwvVoOlC",
        "colab": {
          "base_uri": "https://localhost:8080/"
        },
        "outputId": "6bceb031-b82a-440c-adb2-a8d83289c426"
      },
      "source": [
        "a=tf.constant([1,2,3,4,5,6], shape=[2,3])\n",
        "print(a)"
      ],
      "execution_count": 4,
      "outputs": [
        {
          "output_type": "stream",
          "text": [
            "tf.Tensor(\n",
            "[[1 2 3]\n",
            " [4 5 6]], shape=(2, 3), dtype=int32)\n"
          ],
          "name": "stdout"
        }
      ]
    },
    {
      "cell_type": "code",
      "metadata": {
        "id": "LQq7SUuOpB-O",
        "colab": {
          "base_uri": "https://localhost:8080/"
        },
        "outputId": "c7c0ef2b-86e6-4cfa-cfed-ed974a484430"
      },
      "source": [
        "b=tf.constant([7,8,9,10,11,12], shape=[3,2])\n",
        "print(b)"
      ],
      "execution_count": 5,
      "outputs": [
        {
          "output_type": "stream",
          "text": [
            "tf.Tensor(\n",
            "[[ 7  8]\n",
            " [ 9 10]\n",
            " [11 12]], shape=(3, 2), dtype=int32)\n"
          ],
          "name": "stdout"
        }
      ]
    },
    {
      "cell_type": "code",
      "metadata": {
        "id": "0tvyrgBIYLBb",
        "colab": {
          "base_uri": "https://localhost:8080/"
        },
        "outputId": "0f6eb378-a5db-4fa7-f3aa-e988158b8ea1"
      },
      "source": [
        "c=tf.matmul(a,b)\n",
        "print(c)"
      ],
      "execution_count": 6,
      "outputs": [
        {
          "output_type": "stream",
          "text": [
            "tf.Tensor(\n",
            "[[ 58  64]\n",
            " [139 154]], shape=(2, 2), dtype=int32)\n"
          ],
          "name": "stdout"
        }
      ]
    },
    {
      "cell_type": "markdown",
      "metadata": {
        "id": "enoiJQRhKnP1"
      },
      "source": [
        "행렬의 나눗셈. 1/x을 계산하기"
      ]
    },
    {
      "cell_type": "code",
      "metadata": {
        "id": "8KdiTMNvbhHT",
        "colab": {
          "base_uri": "https://localhost:8080/"
        },
        "outputId": "05aebd37-9401-422b-f155-22d7a61236cf"
      },
      "source": [
        "x = tf.constant([[2, 0], [0, 1]], dtype=tf.float32)\n",
        "print('x = ', x)\n",
        "print()\n",
        "y=tf.linalg.inv(x).numpy()\n",
        "print('y = ', y)\n",
        "print()\n",
        "print('x 곱하기 y =', tf.matmul(x,y))\n"
      ],
      "execution_count": 7,
      "outputs": [
        {
          "output_type": "stream",
          "text": [
            "x =  tf.Tensor(\n",
            "[[2. 0.]\n",
            " [0. 1.]], shape=(2, 2), dtype=float32)\n",
            "\n",
            "y =  [[0.5 0. ]\n",
            " [0.  1. ]]\n",
            "\n",
            "x 곱하기 y = tf.Tensor(\n",
            "[[1. 0.]\n",
            " [0. 1.]], shape=(2, 2), dtype=float32)\n"
          ],
          "name": "stdout"
        }
      ]
    },
    {
      "cell_type": "code",
      "metadata": {
        "id": "oDkCQDRFlhiG",
        "colab": {
          "base_uri": "https://localhost:8080/"
        },
        "outputId": "808a03f0-6781-4a64-fbcc-cffadbbe27ab"
      },
      "source": [
        "y=tf.constant([[1.0,0.0],[0.0, 1.0], [1.0, 0.0], [0.0, 1.0]])\n",
        "print(y)\n",
        "print(y.shape)"
      ],
      "execution_count": 8,
      "outputs": [
        {
          "output_type": "stream",
          "text": [
            "tf.Tensor(\n",
            "[[1. 0.]\n",
            " [0. 1.]\n",
            " [1. 0.]\n",
            " [0. 1.]], shape=(4, 2), dtype=float32)\n",
            "(4, 2)\n"
          ],
          "name": "stdout"
        }
      ]
    },
    {
      "cell_type": "code",
      "metadata": {
        "id": "qPbaRFw7psag",
        "colab": {
          "base_uri": "https://localhost:8080/"
        },
        "outputId": "040f96e3-50b0-4d84-dfe2-a8f53adb7c35"
      },
      "source": [
        "print(y.dtype)"
      ],
      "execution_count": 9,
      "outputs": [
        {
          "output_type": "stream",
          "text": [
            "<dtype: 'float32'>\n"
          ],
          "name": "stdout"
        }
      ]
    }
  ]
}