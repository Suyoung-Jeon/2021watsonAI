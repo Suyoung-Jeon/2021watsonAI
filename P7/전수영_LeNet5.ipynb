{
  "nbformat": 4,
  "nbformat_minor": 0,
  "metadata": {
    "colab": {
      "name": "mnist_convnet의 사본",
      "provenance": [],
      "collapsed_sections": [],
      "toc_visible": true,
      "include_colab_link": true
    },
    "kernelspec": {
      "display_name": "Python 3",
      "language": "python",
      "name": "python3"
    },
    "language_info": {
      "codemirror_mode": {
        "name": "ipython",
        "version": 3
      },
      "file_extension": ".py",
      "mimetype": "text/x-python",
      "name": "python",
      "nbconvert_exporter": "python",
      "pygments_lexer": "ipython3",
      "version": "3.7.0"
    }
  },
  "cells": [
    {
      "cell_type": "markdown",
      "metadata": {
        "id": "view-in-github",
        "colab_type": "text"
      },
      "source": [
        "<a href=\"https://colab.research.google.com/github/Suyoung-Jeon/2021watsonAI/blob/main/P7/%EC%A0%84%EC%88%98%EC%98%81_LeNet5.ipynb\" target=\"_parent\"><img src=\"https://colab.research.google.com/assets/colab-badge.svg\" alt=\"Open In Colab\"/></a>"
      ]
    },
    {
      "cell_type": "markdown",
      "metadata": {
        "id": "f_bOmz8dH_Vu"
      },
      "source": [
        "# Simple MNIST convnet\n",
        "\n",
        "**Author:** [fchollet](https://twitter.com/fchollet)<br>\n",
        "**Date created:** 2015/06/19<br>\n",
        "**Last modified:** 2020/04/21<br>\n",
        "**Description:** A simple convnet that achieves ~99% test accuracy on MNIST."
      ]
    },
    {
      "cell_type": "markdown",
      "metadata": {
        "id": "uo7pEk35H_Vv"
      },
      "source": [
        "## Setup"
      ]
    },
    {
      "cell_type": "code",
      "metadata": {
        "id": "aZX9rzz2H_Vw"
      },
      "source": [
        "import numpy as np\n",
        "from tensorflow import keras\n",
        "from tensorflow.keras import layers"
      ],
      "execution_count": 13,
      "outputs": []
    },
    {
      "cell_type": "markdown",
      "metadata": {
        "id": "bysn4mZrH_Vw"
      },
      "source": [
        "## Prepare the data"
      ]
    },
    {
      "cell_type": "code",
      "metadata": {
        "id": "EqzIb7BQH_Vx",
        "colab": {
          "base_uri": "https://localhost:8080/"
        },
        "outputId": "30f26536-e3f7-42ff-a07e-fb4c7371fc9e"
      },
      "source": [
        "# Model / data parameters\n",
        "num_classes = 10\n",
        "input_shape = (28, 28, 1)\n",
        "\n",
        "# the data, split between train and test sets\n",
        "(x_train, y_train), (x_test, y_test) = keras.datasets.mnist.load_data()\n",
        "\n",
        "# Scale images to the [0, 1] range\n",
        "x_train = x_train.astype(\"float32\") / 255\n",
        "x_test = x_test.astype(\"float32\") / 255\n",
        "# Make sure images have shape (28, 28, 1)\n",
        "x_train = np.expand_dims(x_train, -1)\n",
        "x_test = np.expand_dims(x_test, -1)\n",
        "print(\"x_train shape:\", x_train.shape)\n",
        "print(x_train.shape[0], \"train samples\")\n",
        "print(x_test.shape[0], \"test samples\")\n",
        "\n",
        "\n",
        "# convert class vectors to binary class matrices\n",
        "y_train = keras.utils.to_categorical(y_train, num_classes)\n",
        "y_test = keras.utils.to_categorical(y_test, num_classes)"
      ],
      "execution_count": 14,
      "outputs": [
        {
          "output_type": "stream",
          "text": [
            "x_train shape: (60000, 28, 28, 1)\n",
            "60000 train samples\n",
            "10000 test samples\n"
          ],
          "name": "stdout"
        }
      ]
    },
    {
      "cell_type": "markdown",
      "metadata": {
        "id": "6J1XdJ6NH_Vx"
      },
      "source": [
        "## Build the model"
      ]
    },
    {
      "cell_type": "code",
      "metadata": {
        "id": "edwOcf_pH_Vx",
        "colab": {
          "base_uri": "https://localhost:8080/"
        },
        "outputId": "f61f0e71-54e4-4d8d-cfcd-4b023b457c24"
      },
      "source": [
        "model = keras.Sequential(\n",
        "    [\n",
        "        keras.Input(shape=input_shape),\n",
        "        layers.Conv2D(6, kernel_size=(5, 5), activation=\"tanh\", padding='same'),\n",
        "        layers.MaxPooling2D(pool_size=(2, 2)),\n",
        "        layers.Conv2D(16, kernel_size=(5, 5), activation=\"tanh\"),\n",
        "        layers.MaxPooling2D(pool_size=(2, 2)),\n",
        "        layers.Conv2D(120, kernel_size=(5, 5), activation=\"tanh\"),\n",
        "        layers.Flatten(),\n",
        "        layers.Dropout(0.5),\n",
        "        layers.Dense(84, activation='tanh'),\n",
        "        layers.Dense(num_classes, activation=\"softmax\"),\n",
        "    ]\n",
        ")\n",
        "\n",
        "model.summary()"
      ],
      "execution_count": 15,
      "outputs": [
        {
          "output_type": "stream",
          "text": [
            "Model: \"sequential_3\"\n",
            "_________________________________________________________________\n",
            "Layer (type)                 Output Shape              Param #   \n",
            "=================================================================\n",
            "conv2d_9 (Conv2D)            (None, 28, 28, 6)         156       \n",
            "_________________________________________________________________\n",
            "max_pooling2d_6 (MaxPooling2 (None, 14, 14, 6)         0         \n",
            "_________________________________________________________________\n",
            "conv2d_10 (Conv2D)           (None, 10, 10, 16)        2416      \n",
            "_________________________________________________________________\n",
            "max_pooling2d_7 (MaxPooling2 (None, 5, 5, 16)          0         \n",
            "_________________________________________________________________\n",
            "conv2d_11 (Conv2D)           (None, 1, 1, 120)         48120     \n",
            "_________________________________________________________________\n",
            "flatten_1 (Flatten)          (None, 120)               0         \n",
            "_________________________________________________________________\n",
            "dropout_3 (Dropout)          (None, 120)               0         \n",
            "_________________________________________________________________\n",
            "dense_6 (Dense)              (None, 84)                10164     \n",
            "_________________________________________________________________\n",
            "dense_7 (Dense)              (None, 10)                850       \n",
            "=================================================================\n",
            "Total params: 61,706\n",
            "Trainable params: 61,706\n",
            "Non-trainable params: 0\n",
            "_________________________________________________________________\n"
          ],
          "name": "stdout"
        }
      ]
    },
    {
      "cell_type": "markdown",
      "metadata": {
        "id": "_mi9VAUWH_Vy"
      },
      "source": [
        "## Train the model"
      ]
    },
    {
      "cell_type": "code",
      "metadata": {
        "id": "qsXzHKKCH_Vy",
        "colab": {
          "base_uri": "https://localhost:8080/"
        },
        "outputId": "6e3499da-1643-4378-dff2-90fb7ea66d5b"
      },
      "source": [
        "batch_size = 128\n",
        "epochs = 15\n",
        "\n",
        "model.compile(loss=\"categorical_crossentropy\", optimizer=\"adam\", metrics=[\"accuracy\"])\n",
        "\n",
        "model.fit(x_train, y_train, batch_size=batch_size, epochs=epochs, validation_split=0.1)"
      ],
      "execution_count": 16,
      "outputs": [
        {
          "output_type": "stream",
          "text": [
            "Epoch 1/15\n",
            "422/422 [==============================] - 32s 74ms/step - loss: 0.6326 - accuracy: 0.8192 - val_loss: 0.0832 - val_accuracy: 0.9753\n",
            "Epoch 2/15\n",
            "422/422 [==============================] - 31s 73ms/step - loss: 0.1185 - accuracy: 0.9629 - val_loss: 0.0660 - val_accuracy: 0.9805\n",
            "Epoch 3/15\n",
            "422/422 [==============================] - 31s 73ms/step - loss: 0.0872 - accuracy: 0.9732 - val_loss: 0.0579 - val_accuracy: 0.9830\n",
            "Epoch 4/15\n",
            "422/422 [==============================] - 31s 73ms/step - loss: 0.0753 - accuracy: 0.9773 - val_loss: 0.0507 - val_accuracy: 0.9850\n",
            "Epoch 5/15\n",
            "422/422 [==============================] - 31s 73ms/step - loss: 0.0672 - accuracy: 0.9790 - val_loss: 0.0470 - val_accuracy: 0.9875\n",
            "Epoch 6/15\n",
            "422/422 [==============================] - 31s 74ms/step - loss: 0.0605 - accuracy: 0.9816 - val_loss: 0.0506 - val_accuracy: 0.9862\n",
            "Epoch 7/15\n",
            "422/422 [==============================] - 31s 74ms/step - loss: 0.0523 - accuracy: 0.9832 - val_loss: 0.0439 - val_accuracy: 0.9875\n",
            "Epoch 8/15\n",
            "422/422 [==============================] - 31s 73ms/step - loss: 0.0475 - accuracy: 0.9853 - val_loss: 0.0459 - val_accuracy: 0.9875\n",
            "Epoch 9/15\n",
            "422/422 [==============================] - 31s 73ms/step - loss: 0.0439 - accuracy: 0.9862 - val_loss: 0.0419 - val_accuracy: 0.9883\n",
            "Epoch 10/15\n",
            "422/422 [==============================] - 31s 73ms/step - loss: 0.0459 - accuracy: 0.9851 - val_loss: 0.0407 - val_accuracy: 0.9895\n",
            "Epoch 11/15\n",
            "422/422 [==============================] - 31s 73ms/step - loss: 0.0393 - accuracy: 0.9882 - val_loss: 0.0398 - val_accuracy: 0.9890\n",
            "Epoch 12/15\n",
            "422/422 [==============================] - 31s 73ms/step - loss: 0.0365 - accuracy: 0.9882 - val_loss: 0.0456 - val_accuracy: 0.9893\n",
            "Epoch 13/15\n",
            "422/422 [==============================] - 31s 73ms/step - loss: 0.0341 - accuracy: 0.9893 - val_loss: 0.0442 - val_accuracy: 0.9888\n",
            "Epoch 14/15\n",
            "422/422 [==============================] - 31s 74ms/step - loss: 0.0343 - accuracy: 0.9897 - val_loss: 0.0412 - val_accuracy: 0.9898\n",
            "Epoch 15/15\n",
            "422/422 [==============================] - 31s 73ms/step - loss: 0.0316 - accuracy: 0.9907 - val_loss: 0.0411 - val_accuracy: 0.9905\n"
          ],
          "name": "stdout"
        },
        {
          "output_type": "execute_result",
          "data": {
            "text/plain": [
              "<tensorflow.python.keras.callbacks.History at 0x7f011a5a8090>"
            ]
          },
          "metadata": {
            "tags": []
          },
          "execution_count": 16
        }
      ]
    },
    {
      "cell_type": "markdown",
      "metadata": {
        "id": "liGkgsPJH_Vy"
      },
      "source": [
        "## Evaluate the trained model"
      ]
    },
    {
      "cell_type": "code",
      "metadata": {
        "id": "2J88ELQtH_Vz",
        "colab": {
          "base_uri": "https://localhost:8080/"
        },
        "outputId": "35c2062b-f09c-405e-8d16-e2a2aa2f08aa"
      },
      "source": [
        "score = model.evaluate(x_test, y_test, verbose=0)\n",
        "print(\"Test loss:\", score[0])\n",
        "print(\"Test accuracy:\", score[1])"
      ],
      "execution_count": 17,
      "outputs": [
        {
          "output_type": "stream",
          "text": [
            "Test loss: 0.03965862840414047\n",
            "Test accuracy: 0.9884999990463257\n"
          ],
          "name": "stdout"
        }
      ]
    }
  ]
}