{
  "nbformat": 4,
  "nbformat_minor": 0,
  "metadata": {
    "colab": {
      "name": "mnist_convnet의 사본",
      "provenance": [],
      "collapsed_sections": [],
      "toc_visible": true,
      "include_colab_link": true
    },
    "kernelspec": {
      "display_name": "Python 3",
      "language": "python",
      "name": "python3"
    },
    "language_info": {
      "codemirror_mode": {
        "name": "ipython",
        "version": 3
      },
      "file_extension": ".py",
      "mimetype": "text/x-python",
      "name": "python",
      "nbconvert_exporter": "python",
      "pygments_lexer": "ipython3",
      "version": "3.7.0"
    }
  },
  "cells": [
    {
      "cell_type": "markdown",
      "metadata": {
        "id": "view-in-github",
        "colab_type": "text"
      },
      "source": [
        "<a href=\"https://colab.research.google.com/github/Suyoung-Jeon/2021watsonAI/blob/main/P7/%EC%A0%84%EC%88%98%EC%98%81_LeNet5.ipynb\" target=\"_parent\"><img src=\"https://colab.research.google.com/assets/colab-badge.svg\" alt=\"Open In Colab\"/></a>"
      ]
    },
    {
      "cell_type": "markdown",
      "metadata": {
        "id": "f_bOmz8dH_Vu"
      },
      "source": [
        "# Simple MNIST convnet\n",
        "\n",
        "**Author:** [fchollet](https://twitter.com/fchollet)<br>\n",
        "**Date created:** 2015/06/19<br>\n",
        "**Last modified:** 2020/04/21<br>\n",
        "**Description:** A simple convnet that achieves ~99% test accuracy on MNIST."
      ]
    },
    {
      "cell_type": "markdown",
      "metadata": {
        "id": "uo7pEk35H_Vv"
      },
      "source": [
        "## Setup"
      ]
    },
    {
      "cell_type": "code",
      "metadata": {
        "id": "aZX9rzz2H_Vw"
      },
      "source": [
        "import numpy as np\n",
        "from tensorflow import keras\n",
        "from tensorflow.keras import layers"
      ],
      "execution_count": 1,
      "outputs": []
    },
    {
      "cell_type": "markdown",
      "metadata": {
        "id": "bysn4mZrH_Vw"
      },
      "source": [
        "## Prepare the data"
      ]
    },
    {
      "cell_type": "code",
      "metadata": {
        "id": "EqzIb7BQH_Vx",
        "colab": {
          "base_uri": "https://localhost:8080/"
        },
        "outputId": "9d5d68a9-3b7a-4ec1-d0d8-119bf671f69f"
      },
      "source": [
        "# Model / data parameters\n",
        "num_classes = 10\n",
        "input_shape = (28, 28, 1)\n",
        "\n",
        "# the data, split between train and test sets\n",
        "(x_train, y_train), (x_test, y_test) = keras.datasets.mnist.load_data()\n",
        "\n",
        "# Scale images to the [0, 1] range\n",
        "x_train = x_train.astype(\"float32\") / 255\n",
        "x_test = x_test.astype(\"float32\") / 255\n",
        "# Make sure images have shape (28, 28, 1)\n",
        "x_train = np.expand_dims(x_train, -1)\n",
        "x_test = np.expand_dims(x_test, -1)\n",
        "print(\"x_train shape:\", x_train.shape)\n",
        "print(x_train.shape[0], \"train samples\")\n",
        "print(x_test.shape[0], \"test samples\")\n",
        "\n",
        "\n",
        "# convert class vectors to binary class matrices\n",
        "y_train = keras.utils.to_categorical(y_train, num_classes)\n",
        "y_test = keras.utils.to_categorical(y_test, num_classes)"
      ],
      "execution_count": 2,
      "outputs": [
        {
          "output_type": "stream",
          "text": [
            "Downloading data from https://storage.googleapis.com/tensorflow/tf-keras-datasets/mnist.npz\n",
            "11493376/11490434 [==============================] - 0s 0us/step\n",
            "x_train shape: (60000, 28, 28, 1)\n",
            "60000 train samples\n",
            "10000 test samples\n"
          ],
          "name": "stdout"
        }
      ]
    },
    {
      "cell_type": "markdown",
      "metadata": {
        "id": "6J1XdJ6NH_Vx"
      },
      "source": [
        "## Build the model"
      ]
    },
    {
      "cell_type": "code",
      "metadata": {
        "id": "edwOcf_pH_Vx",
        "colab": {
          "base_uri": "https://localhost:8080/"
        },
        "outputId": "001d3db4-a1ca-4b3a-b0ab-d86b86123718"
      },
      "source": [
        "model = keras.Sequential(\n",
        "    [\n",
        "        keras.Input(shape=input_shape),\n",
        "        layers.Conv2D(6, kernel_size=(5, 5), activation=\"tanh\", padding='same'),\n",
        "        layers.MaxPooling2D(pool_size=(2, 2)),\n",
        "        layers.Conv2D(16, kernel_size=(5, 5), activation=\"tanh\"),\n",
        "        layers.MaxPooling2D(pool_size=(2, 2)),\n",
        "        layers.Flatten(),\n",
        "        layers.Dropout(0.5),\n",
        "        layers.Dense(120, activation='tanh'),\n",
        "        layers.Dense(84, activation='tanh'),\n",
        "        layers.Dense(num_classes, activation=\"softmax\"),\n",
        "    ]\n",
        ")\n",
        "\n",
        "model.summary()"
      ],
      "execution_count": 3,
      "outputs": [
        {
          "output_type": "stream",
          "text": [
            "Model: \"sequential\"\n",
            "_________________________________________________________________\n",
            "Layer (type)                 Output Shape              Param #   \n",
            "=================================================================\n",
            "conv2d (Conv2D)              (None, 28, 28, 6)         156       \n",
            "_________________________________________________________________\n",
            "max_pooling2d (MaxPooling2D) (None, 14, 14, 6)         0         \n",
            "_________________________________________________________________\n",
            "conv2d_1 (Conv2D)            (None, 10, 10, 16)        2416      \n",
            "_________________________________________________________________\n",
            "max_pooling2d_1 (MaxPooling2 (None, 5, 5, 16)          0         \n",
            "_________________________________________________________________\n",
            "flatten (Flatten)            (None, 400)               0         \n",
            "_________________________________________________________________\n",
            "dropout (Dropout)            (None, 400)               0         \n",
            "_________________________________________________________________\n",
            "dense (Dense)                (None, 120)               48120     \n",
            "_________________________________________________________________\n",
            "dense_1 (Dense)              (None, 84)                10164     \n",
            "_________________________________________________________________\n",
            "dense_2 (Dense)              (None, 10)                850       \n",
            "=================================================================\n",
            "Total params: 61,706\n",
            "Trainable params: 61,706\n",
            "Non-trainable params: 0\n",
            "_________________________________________________________________\n"
          ],
          "name": "stdout"
        }
      ]
    },
    {
      "cell_type": "markdown",
      "metadata": {
        "id": "_mi9VAUWH_Vy"
      },
      "source": [
        "## Train the model"
      ]
    },
    {
      "cell_type": "code",
      "metadata": {
        "id": "qsXzHKKCH_Vy",
        "colab": {
          "base_uri": "https://localhost:8080/"
        },
        "outputId": "dcd7f55e-8006-495e-8d63-59a4ecdf9d34"
      },
      "source": [
        "batch_size = 128\n",
        "epochs = 15\n",
        "\n",
        "model.compile(loss=\"categorical_crossentropy\", optimizer=\"adam\", metrics=[\"accuracy\"])\n",
        "\n",
        "model.fit(x_train, y_train, batch_size=batch_size, epochs=epochs, validation_split=0.1)"
      ],
      "execution_count": 4,
      "outputs": [
        {
          "output_type": "stream",
          "text": [
            "Epoch 1/15\n",
            "422/422 [==============================] - 31s 71ms/step - loss: 0.7346 - accuracy: 0.7705 - val_loss: 0.1011 - val_accuracy: 0.9718\n",
            "Epoch 2/15\n",
            "422/422 [==============================] - 30s 71ms/step - loss: 0.1732 - accuracy: 0.9459 - val_loss: 0.0675 - val_accuracy: 0.9803\n",
            "Epoch 3/15\n",
            "422/422 [==============================] - 30s 71ms/step - loss: 0.1300 - accuracy: 0.9584 - val_loss: 0.0589 - val_accuracy: 0.9808\n",
            "Epoch 4/15\n",
            "422/422 [==============================] - 30s 72ms/step - loss: 0.1096 - accuracy: 0.9660 - val_loss: 0.0525 - val_accuracy: 0.9848\n",
            "Epoch 5/15\n",
            "422/422 [==============================] - 30s 71ms/step - loss: 0.0947 - accuracy: 0.9697 - val_loss: 0.0461 - val_accuracy: 0.9863\n",
            "Epoch 6/15\n",
            "422/422 [==============================] - 30s 71ms/step - loss: 0.0791 - accuracy: 0.9745 - val_loss: 0.0447 - val_accuracy: 0.9868\n",
            "Epoch 7/15\n",
            "422/422 [==============================] - 30s 71ms/step - loss: 0.0737 - accuracy: 0.9775 - val_loss: 0.0395 - val_accuracy: 0.9888\n",
            "Epoch 8/15\n",
            "422/422 [==============================] - 30s 71ms/step - loss: 0.0643 - accuracy: 0.9800 - val_loss: 0.0396 - val_accuracy: 0.9878\n",
            "Epoch 9/15\n",
            "422/422 [==============================] - 30s 71ms/step - loss: 0.0660 - accuracy: 0.9784 - val_loss: 0.0413 - val_accuracy: 0.9880\n",
            "Epoch 10/15\n",
            "422/422 [==============================] - 30s 71ms/step - loss: 0.0582 - accuracy: 0.9822 - val_loss: 0.0400 - val_accuracy: 0.9885\n",
            "Epoch 11/15\n",
            "422/422 [==============================] - 30s 71ms/step - loss: 0.0565 - accuracy: 0.9821 - val_loss: 0.0374 - val_accuracy: 0.9892\n",
            "Epoch 12/15\n",
            "422/422 [==============================] - 30s 71ms/step - loss: 0.0467 - accuracy: 0.9843 - val_loss: 0.0387 - val_accuracy: 0.9895\n",
            "Epoch 13/15\n",
            "422/422 [==============================] - 30s 71ms/step - loss: 0.0482 - accuracy: 0.9840 - val_loss: 0.0352 - val_accuracy: 0.9905\n",
            "Epoch 14/15\n",
            "422/422 [==============================] - 30s 71ms/step - loss: 0.0448 - accuracy: 0.9858 - val_loss: 0.0377 - val_accuracy: 0.9892\n",
            "Epoch 15/15\n",
            "422/422 [==============================] - 30s 71ms/step - loss: 0.0434 - accuracy: 0.9858 - val_loss: 0.0337 - val_accuracy: 0.9898\n"
          ],
          "name": "stdout"
        },
        {
          "output_type": "execute_result",
          "data": {
            "text/plain": [
              "<tensorflow.python.keras.callbacks.History at 0x7f4921660b10>"
            ]
          },
          "metadata": {
            "tags": []
          },
          "execution_count": 4
        }
      ]
    },
    {
      "cell_type": "markdown",
      "metadata": {
        "id": "liGkgsPJH_Vy"
      },
      "source": [
        "## Evaluate the trained model"
      ]
    },
    {
      "cell_type": "code",
      "metadata": {
        "id": "2J88ELQtH_Vz",
        "colab": {
          "base_uri": "https://localhost:8080/"
        },
        "outputId": "4b3cf49e-5530-4e32-f752-971c92eaa650"
      },
      "source": [
        "score = model.evaluate(x_test, y_test, verbose=0)\n",
        "print(\"Test loss:\", score[0])\n",
        "print(\"Test accuracy:\", score[1])"
      ],
      "execution_count": 5,
      "outputs": [
        {
          "output_type": "stream",
          "text": [
            "Test loss: 0.0346512533724308\n",
            "Test accuracy: 0.9894000291824341\n"
          ],
          "name": "stdout"
        }
      ]
    }
  ]
}